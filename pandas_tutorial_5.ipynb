{
 "cells": [
  {
   "cell_type": "markdown",
   "id": "639fbf61",
   "metadata": {},
   "source": [
    "# pandas_tutorial_5"
   ]
  },
  {
   "cell_type": "markdown",
   "id": "a9f44cc4",
   "metadata": {},
   "source": [
    "# date and time"
   ]
  },
  {
   "cell_type": "code",
   "execution_count": 1,
   "id": "654288dd",
   "metadata": {},
   "outputs": [],
   "source": [
    "import pandas as pd\n",
    "import datetime as dt"
   ]
  },
  {
   "cell_type": "code",
   "execution_count": 2,
   "id": "31522259",
   "metadata": {},
   "outputs": [],
   "source": [
    "someday=dt.date(2010 , 1,20)"
   ]
  },
  {
   "cell_type": "code",
   "execution_count": 3,
   "id": "5b8cb44d",
   "metadata": {},
   "outputs": [
    {
     "data": {
      "text/plain": [
       "2010"
      ]
     },
     "execution_count": 3,
     "metadata": {},
     "output_type": "execute_result"
    }
   ],
   "source": [
    "someday.year"
   ]
  },
  {
   "cell_type": "code",
   "execution_count": 4,
   "id": "3e593c34",
   "metadata": {},
   "outputs": [
    {
     "data": {
      "text/plain": [
       "1"
      ]
     },
     "execution_count": 4,
     "metadata": {},
     "output_type": "execute_result"
    }
   ],
   "source": [
    "someday.month"
   ]
  },
  {
   "cell_type": "code",
   "execution_count": 5,
   "id": "810b7c86",
   "metadata": {},
   "outputs": [
    {
     "data": {
      "text/plain": [
       "20"
      ]
     },
     "execution_count": 5,
     "metadata": {},
     "output_type": "execute_result"
    }
   ],
   "source": [
    "someday.day"
   ]
  },
  {
   "cell_type": "code",
   "execution_count": 6,
   "id": "a1a36153",
   "metadata": {},
   "outputs": [],
   "source": [
    "sometime=dt.datetime(2010 ,1,20 ,15,17,30)"
   ]
  },
  {
   "cell_type": "code",
   "execution_count": 8,
   "id": "e952d4c1",
   "metadata": {},
   "outputs": [
    {
     "data": {
      "text/plain": [
       "30"
      ]
     },
     "execution_count": 8,
     "metadata": {},
     "output_type": "execute_result"
    }
   ],
   "source": [
    "sometime.year\n",
    "sometime.month\n",
    "sometime.day\n",
    "sometime.hour\n",
    "sometime.minute\n",
    "sometime.second"
   ]
  },
  {
   "cell_type": "markdown",
   "id": "680b1348",
   "metadata": {},
   "source": [
    "# Timestamp()"
   ]
  },
  {
   "cell_type": "code",
   "execution_count": 10,
   "id": "c7d9a545",
   "metadata": {},
   "outputs": [
    {
     "data": {
      "text/plain": [
       "Timestamp('2010-01-09 00:00:00')"
      ]
     },
     "execution_count": 10,
     "metadata": {},
     "output_type": "execute_result"
    }
   ],
   "source": [
    "pd.Timestamp(\"2010-01-09\")"
   ]
  },
  {
   "cell_type": "code",
   "execution_count": 12,
   "id": "628ad21b",
   "metadata": {},
   "outputs": [
    {
     "data": {
      "text/plain": [
       "Timestamp('2016-09-11 00:00:00')"
      ]
     },
     "execution_count": 12,
     "metadata": {},
     "output_type": "execute_result"
    }
   ],
   "source": [
    "pd.Timestamp(\"2016/09/11\")"
   ]
  },
  {
   "cell_type": "code",
   "execution_count": 14,
   "id": "37fa031a",
   "metadata": {},
   "outputs": [
    {
     "data": {
      "text/plain": [
       "Timestamp('2019-08-09 17:15:56')"
      ]
     },
     "execution_count": 14,
     "metadata": {},
     "output_type": "execute_result"
    }
   ],
   "source": [
    "pd.Timestamp(\"2019-08-9  5:15:56 pm\")"
   ]
  },
  {
   "cell_type": "code",
   "execution_count": 15,
   "id": "fc2a9e3e",
   "metadata": {},
   "outputs": [],
   "source": [
    "dates=[\"2019-08-07\" , \"2018-5-3\" ,\"2017-6-23\"]"
   ]
  },
  {
   "cell_type": "code",
   "execution_count": 17,
   "id": "fabfc07b",
   "metadata": {},
   "outputs": [],
   "source": [
    "dt_index=pd.DatetimeIndex(dates)"
   ]
  },
  {
   "cell_type": "code",
   "execution_count": 18,
   "id": "a9321da6",
   "metadata": {},
   "outputs": [],
   "source": [
    "values=[100 ,150 ,175]\n"
   ]
  },
  {
   "cell_type": "code",
   "execution_count": 19,
   "id": "37fb3cff",
   "metadata": {},
   "outputs": [
    {
     "data": {
      "text/plain": [
       "2019-08-07    100\n",
       "2018-05-03    150\n",
       "2017-06-23    175\n",
       "dtype: int64"
      ]
     },
     "execution_count": 19,
     "metadata": {},
     "output_type": "execute_result"
    }
   ],
   "source": [
    "pd.Series(data=values ,index=dt_index)"
   ]
  },
  {
   "cell_type": "markdown",
   "id": "dec577a7",
   "metadata": {},
   "source": [
    "# to_datetime"
   ]
  },
  {
   "cell_type": "code",
   "execution_count": 20,
   "id": "742bfbdd",
   "metadata": {},
   "outputs": [
    {
     "data": {
      "text/plain": [
       "Timestamp('2019-08-08 00:00:00')"
      ]
     },
     "execution_count": 20,
     "metadata": {},
     "output_type": "execute_result"
    }
   ],
   "source": [
    "pd.to_datetime(\"2019-08-08\")"
   ]
  },
  {
   "cell_type": "code",
   "execution_count": 21,
   "id": "0d49669c",
   "metadata": {},
   "outputs": [
    {
     "data": {
      "text/plain": [
       "Timestamp('2021-07-04 00:00:00')"
      ]
     },
     "execution_count": 21,
     "metadata": {},
     "output_type": "execute_result"
    }
   ],
   "source": [
    "pd.to_datetime(\"july 4th , 2021\")"
   ]
  },
  {
   "cell_type": "code",
   "execution_count": 25,
   "id": "ff560afe",
   "metadata": {},
   "outputs": [
    {
     "data": {
      "text/plain": [
       "DatetimeIndex(['2021-09-05', '2022-12-23'], dtype='datetime64[ns]', freq=None)"
      ]
     },
     "execution_count": 25,
     "metadata": {},
     "output_type": "execute_result"
    }
   ],
   "source": [
    "s=[\"2021-09-05\" ,\"2022-12-23\"]\n",
    "pd.to_datetime(s)"
   ]
  },
  {
   "cell_type": "code",
   "execution_count": 28,
   "id": "8f6ec6c5",
   "metadata": {},
   "outputs": [
    {
     "data": {
      "text/plain": [
       "0   2015-04-05\n",
       "1   2016-07-07\n",
       "2          NaT\n",
       "dtype: datetime64[ns]"
      ]
     },
     "execution_count": 28,
     "metadata": {},
     "output_type": "execute_result"
    }
   ],
   "source": [
    "dates=pd.Series([\"4-5-2015\" , \"july 7th 2016\" , \"hello\"])\n",
    "pd.to_datetime(dates , errors=\"coerce\")"
   ]
  },
  {
   "cell_type": "code",
   "execution_count": 33,
   "id": "8db6f347",
   "metadata": {},
   "outputs": [
    {
     "data": {
      "text/plain": [
       "Timestamp('1999-04-03 15:49:27')"
      ]
     },
     "execution_count": 33,
     "metadata": {},
     "output_type": "execute_result"
    }
   ],
   "source": [
    "pd.to_datetime(923154567 , unit=\"s\")"
   ]
  },
  {
   "cell_type": "code",
   "execution_count": 34,
   "id": "e68e6bfb",
   "metadata": {},
   "outputs": [
    {
     "data": {
      "text/plain": [
       "DatetimeIndex(['1999-04-03 15:49:27', '2108-01-22 05:45:45'], dtype='datetime64[ns]', freq=None)"
      ]
     },
     "execution_count": 34,
     "metadata": {},
     "output_type": "execute_result"
    }
   ],
   "source": [
    "pd.to_datetime([923154567,4356654345] , unit=\"s\")"
   ]
  },
  {
   "cell_type": "markdown",
   "id": "a11f3368",
   "metadata": {},
   "source": [
    "# range"
   ]
  },
  {
   "cell_type": "code",
   "execution_count": 39,
   "id": "4847687b",
   "metadata": {},
   "outputs": [
    {
     "data": {
      "text/plain": [
       "DatetimeIndex(['2021-06-21', '2021-06-22', '2021-06-23', '2021-06-24',\n",
       "               '2021-06-25', '2021-06-26', '2021-06-27', '2021-06-28',\n",
       "               '2021-06-29', '2021-06-30',\n",
       "               ...\n",
       "               '2022-06-12', '2022-06-13', '2022-06-14', '2022-06-15',\n",
       "               '2022-06-16', '2022-06-17', '2022-06-18', '2022-06-19',\n",
       "               '2022-06-20', '2022-06-21'],\n",
       "              dtype='datetime64[ns]', length=366, freq='D')"
      ]
     },
     "execution_count": 39,
     "metadata": {},
     "output_type": "execute_result"
    }
   ],
   "source": [
    "#staring date and ending and steps\n",
    "pd.date_range(start=\"2021-06-21\" , end=\"2022-06-21\" , freq=\"d\")"
   ]
  },
  {
   "cell_type": "code",
   "execution_count": 40,
   "id": "575c402e",
   "metadata": {},
   "outputs": [
    {
     "data": {
      "text/plain": [
       "DatetimeIndex(['2021-06-21', '2021-06-24', '2021-06-27', '2021-06-30',\n",
       "               '2021-07-03', '2021-07-06', '2021-07-09', '2021-07-12',\n",
       "               '2021-07-15', '2021-07-18',\n",
       "               ...\n",
       "               '2022-05-23', '2022-05-26', '2022-05-29', '2022-06-01',\n",
       "               '2022-06-04', '2022-06-07', '2022-06-10', '2022-06-13',\n",
       "               '2022-06-16', '2022-06-19'],\n",
       "              dtype='datetime64[ns]', length=122, freq='3D')"
      ]
     },
     "execution_count": 40,
     "metadata": {},
     "output_type": "execute_result"
    }
   ],
   "source": [
    "#steps 3 days\n",
    "pd.date_range(start=\"2021-06-21\" , end=\"2022-06-21\" , freq=\"3D\")"
   ]
  },
  {
   "cell_type": "code",
   "execution_count": 41,
   "id": "e5411edc",
   "metadata": {},
   "outputs": [
    {
     "data": {
      "text/plain": [
       "DatetimeIndex(['2021-06-21', '2021-06-22', '2021-06-23', '2021-06-24',\n",
       "               '2021-06-25', '2021-06-28', '2021-06-29', '2021-06-30',\n",
       "               '2021-07-01', '2021-07-02',\n",
       "               ...\n",
       "               '2022-06-08', '2022-06-09', '2022-06-10', '2022-06-13',\n",
       "               '2022-06-14', '2022-06-15', '2022-06-16', '2022-06-17',\n",
       "               '2022-06-20', '2022-06-21'],\n",
       "              dtype='datetime64[ns]', length=262, freq='B')"
      ]
     },
     "execution_count": 41,
     "metadata": {},
     "output_type": "execute_result"
    }
   ],
   "source": [
    "#only work days not holidays(weekends)\n",
    "pd.date_range(start=\"2021-06-21\" , end=\"2022-06-21\" , freq=\"B\")"
   ]
  },
  {
   "cell_type": "code",
   "execution_count": 43,
   "id": "11d42898",
   "metadata": {},
   "outputs": [
    {
     "data": {
      "text/plain": [
       "DatetimeIndex(['2021-06-27', '2021-07-04', '2021-07-11', '2021-07-18',\n",
       "               '2021-07-25', '2021-08-01', '2021-08-08', '2021-08-15',\n",
       "               '2021-08-22', '2021-08-29', '2021-09-05', '2021-09-12',\n",
       "               '2021-09-19', '2021-09-26', '2021-10-03', '2021-10-10',\n",
       "               '2021-10-17', '2021-10-24', '2021-10-31', '2021-11-07',\n",
       "               '2021-11-14', '2021-11-21', '2021-11-28', '2021-12-05',\n",
       "               '2021-12-12', '2021-12-19', '2021-12-26', '2022-01-02',\n",
       "               '2022-01-09', '2022-01-16', '2022-01-23', '2022-01-30',\n",
       "               '2022-02-06', '2022-02-13', '2022-02-20', '2022-02-27',\n",
       "               '2022-03-06', '2022-03-13', '2022-03-20', '2022-03-27',\n",
       "               '2022-04-03', '2022-04-10', '2022-04-17', '2022-04-24',\n",
       "               '2022-05-01', '2022-05-08', '2022-05-15', '2022-05-22',\n",
       "               '2022-05-29', '2022-06-05', '2022-06-12', '2022-06-19'],\n",
       "              dtype='datetime64[ns]', freq='W-SUN')"
      ]
     },
     "execution_count": 43,
     "metadata": {},
     "output_type": "execute_result"
    }
   ],
   "source": [
    "#showing only  sundays\n",
    "pd.date_range(start=\"2021-06-21\" , end=\"2022-06-21\" , freq=\"W\")"
   ]
  },
  {
   "cell_type": "code",
   "execution_count": 44,
   "id": "1c129f7e",
   "metadata": {},
   "outputs": [
    {
     "data": {
      "text/plain": [
       "DatetimeIndex(['2021-06-25', '2021-07-02', '2021-07-09', '2021-07-16',\n",
       "               '2021-07-23', '2021-07-30', '2021-08-06', '2021-08-13',\n",
       "               '2021-08-20', '2021-08-27', '2021-09-03', '2021-09-10',\n",
       "               '2021-09-17', '2021-09-24', '2021-10-01', '2021-10-08',\n",
       "               '2021-10-15', '2021-10-22', '2021-10-29', '2021-11-05',\n",
       "               '2021-11-12', '2021-11-19', '2021-11-26', '2021-12-03',\n",
       "               '2021-12-10', '2021-12-17', '2021-12-24', '2021-12-31',\n",
       "               '2022-01-07', '2022-01-14', '2022-01-21', '2022-01-28',\n",
       "               '2022-02-04', '2022-02-11', '2022-02-18', '2022-02-25',\n",
       "               '2022-03-04', '2022-03-11', '2022-03-18', '2022-03-25',\n",
       "               '2022-04-01', '2022-04-08', '2022-04-15', '2022-04-22',\n",
       "               '2022-04-29', '2022-05-06', '2022-05-13', '2022-05-20',\n",
       "               '2022-05-27', '2022-06-03', '2022-06-10', '2022-06-17'],\n",
       "              dtype='datetime64[ns]', freq='W-FRI')"
      ]
     },
     "execution_count": 44,
     "metadata": {},
     "output_type": "execute_result"
    }
   ],
   "source": [
    "#only fridays\n",
    "pd.date_range(start=\"2021-06-21\" , end=\"2022-06-21\" , freq=\"w-FRI\")"
   ]
  },
  {
   "cell_type": "code",
   "execution_count": 45,
   "id": "d7cbcbb1",
   "metadata": {},
   "outputs": [
    {
     "data": {
      "text/plain": [
       "DatetimeIndex(['2021-06-21 00:00:00', '2021-06-21 01:00:00',\n",
       "               '2021-06-21 02:00:00', '2021-06-21 03:00:00',\n",
       "               '2021-06-21 04:00:00', '2021-06-21 05:00:00',\n",
       "               '2021-06-21 06:00:00', '2021-06-21 07:00:00',\n",
       "               '2021-06-21 08:00:00', '2021-06-21 09:00:00',\n",
       "               '2021-06-21 10:00:00', '2021-06-21 11:00:00',\n",
       "               '2021-06-21 12:00:00', '2021-06-21 13:00:00',\n",
       "               '2021-06-21 14:00:00', '2021-06-21 15:00:00',\n",
       "               '2021-06-21 16:00:00', '2021-06-21 17:00:00',\n",
       "               '2021-06-21 18:00:00', '2021-06-21 19:00:00',\n",
       "               '2021-06-21 20:00:00', '2021-06-21 21:00:00',\n",
       "               '2021-06-21 22:00:00', '2021-06-21 23:00:00',\n",
       "               '2021-06-22 00:00:00'],\n",
       "              dtype='datetime64[ns]', freq='H')"
      ]
     },
     "execution_count": 45,
     "metadata": {},
     "output_type": "execute_result"
    }
   ],
   "source": [
    "#it is going hour by hour forward\n",
    "pd.date_range(start=\"2021-06-21\" , end=\"2021-06-22\" , freq=\"h\")"
   ]
  },
  {
   "cell_type": "code",
   "execution_count": 47,
   "id": "b0bfba6a",
   "metadata": {},
   "outputs": [
    {
     "data": {
      "text/plain": [
       "DatetimeIndex(['2021-06-21 00:00:00', '2021-06-21 04:00:00',\n",
       "               '2021-06-21 08:00:00', '2021-06-21 12:00:00',\n",
       "               '2021-06-21 16:00:00', '2021-06-21 20:00:00',\n",
       "               '2021-06-22 00:00:00'],\n",
       "              dtype='datetime64[ns]', freq='4H')"
      ]
     },
     "execution_count": 47,
     "metadata": {},
     "output_type": "execute_result"
    }
   ],
   "source": [
    "#4 hours\n",
    "pd.date_range(start=\"2021-06-21\" , end=\"2021-06-22\" , freq=\"4h\")"
   ]
  },
  {
   "cell_type": "code",
   "execution_count": 49,
   "id": "5e583759",
   "metadata": {},
   "outputs": [
    {
     "data": {
      "text/plain": [
       "DatetimeIndex(['2021-06-30', '2021-09-30', '2021-12-31', '2022-03-31'], dtype='datetime64[ns]', freq='3M')"
      ]
     },
     "execution_count": 49,
     "metadata": {},
     "output_type": "execute_result"
    }
   ],
   "source": [
    "#3 months\n",
    "pd.date_range(start=\"2021-06-21\" , end=\"2022-06-21\" , freq=\"3M\")"
   ]
  },
  {
   "cell_type": "code",
   "execution_count": 50,
   "id": "9d09aad2",
   "metadata": {},
   "outputs": [
    {
     "data": {
      "text/plain": [
       "DatetimeIndex(['2021-07-01', '2021-08-01', '2021-09-01', '2021-10-01',\n",
       "               '2021-11-01', '2021-12-01', '2022-01-01', '2022-02-01',\n",
       "               '2022-03-01', '2022-04-01', '2022-05-01', '2022-06-01'],\n",
       "              dtype='datetime64[ns]', freq='MS')"
      ]
     },
     "execution_count": 50,
     "metadata": {},
     "output_type": "execute_result"
    }
   ],
   "source": [
    "#the first days of each month\n",
    "pd.date_range(start=\"2021-06-21\" , end=\"2022-06-21\" , freq=\"MS\")"
   ]
  },
  {
   "cell_type": "code",
   "execution_count": 51,
   "id": "458139a2",
   "metadata": {},
   "outputs": [
    {
     "data": {
      "text/plain": [
       "DatetimeIndex(['2010-12-31', '2011-12-31', '2012-12-31', '2013-12-31',\n",
       "               '2014-12-31', '2015-12-31', '2016-12-31', '2017-12-31',\n",
       "               '2018-12-31', '2019-12-31', '2020-12-31', '2021-12-31'],\n",
       "              dtype='datetime64[ns]', freq='A-DEC')"
      ]
     },
     "execution_count": 51,
     "metadata": {},
     "output_type": "execute_result"
    }
   ],
   "source": [
    "#THE LAST DAY OF EACH YEARS\n",
    "pd.date_range(start=\"2010-06-21\" , end=\"2022-06-21\" , freq=\"A\")"
   ]
  },
  {
   "cell_type": "code",
   "execution_count": 52,
   "id": "d30e990a",
   "metadata": {},
   "outputs": [
    {
     "data": {
      "text/plain": [
       "DatetimeIndex(['2021-06-21', '2021-06-22', '2021-06-23', '2021-06-24',\n",
       "               '2021-06-25', '2021-06-28', '2021-06-29', '2021-06-30',\n",
       "               '2021-07-01', '2021-07-02', '2021-07-05', '2021-07-06',\n",
       "               '2021-07-07', '2021-07-08', '2021-07-09'],\n",
       "              dtype='datetime64[ns]', freq='B')"
      ]
     },
     "execution_count": 52,
     "metadata": {},
     "output_type": "execute_result"
    }
   ],
   "source": [
    "#period instead od end (in 15 days only workdays)\n",
    "pd.date_range(start=\"2021-06-21\" , periods=15 , freq=\"B\")"
   ]
  },
  {
   "cell_type": "code",
   "execution_count": 53,
   "id": "b9f74494",
   "metadata": {},
   "outputs": [
    {
     "data": {
      "text/plain": [
       "15"
      ]
     },
     "execution_count": 53,
     "metadata": {},
     "output_type": "execute_result"
    }
   ],
   "source": [
    "len(pd.date_range(start=\"2021-06-21\" , periods=15 , freq=\"B\"))"
   ]
  },
  {
   "cell_type": "code",
   "execution_count": 55,
   "id": "de6938aa",
   "metadata": {},
   "outputs": [
    {
     "data": {
      "text/plain": [
       "DatetimeIndex(['2021-06-21', '2021-06-28', '2021-07-05', '2021-07-12',\n",
       "               '2021-07-19', '2021-07-26', '2021-08-02', '2021-08-09',\n",
       "               '2021-08-16', '2021-08-23', '2021-08-30', '2021-09-06',\n",
       "               '2021-09-13', '2021-09-20', '2021-09-27'],\n",
       "              dtype='datetime64[ns]', freq='W-MON')"
      ]
     },
     "execution_count": 55,
     "metadata": {},
     "output_type": "execute_result"
    }
   ],
   "source": [
    "#IN 15 DAYS , give the mondays\n",
    "pd.date_range(start=\"2021-06-21\" , periods=15 , freq=\"W-MON\")"
   ]
  },
  {
   "cell_type": "code",
   "execution_count": 56,
   "id": "bef83370",
   "metadata": {},
   "outputs": [
    {
     "data": {
      "text/plain": [
       "DatetimeIndex(['2021-06-21 00:00:00', '2021-06-21 01:00:00',\n",
       "               '2021-06-21 02:00:00', '2021-06-21 03:00:00',\n",
       "               '2021-06-21 04:00:00', '2021-06-21 05:00:00',\n",
       "               '2021-06-21 06:00:00', '2021-06-21 07:00:00',\n",
       "               '2021-06-21 08:00:00', '2021-06-21 09:00:00',\n",
       "               '2021-06-21 10:00:00', '2021-06-21 11:00:00',\n",
       "               '2021-06-21 12:00:00', '2021-06-21 13:00:00',\n",
       "               '2021-06-21 14:00:00'],\n",
       "              dtype='datetime64[ns]', freq='H')"
      ]
     },
     "execution_count": 56,
     "metadata": {},
     "output_type": "execute_result"
    }
   ],
   "source": [
    "#give me 15 hour\n",
    "pd.date_range(start=\"2021-06-21\" , periods=15 , freq=\"h\")"
   ]
  },
  {
   "cell_type": "code",
   "execution_count": 59,
   "id": "2f4e1212",
   "metadata": {},
   "outputs": [
    {
     "data": {
      "text/plain": [
       "DatetimeIndex(['2021-06-01', '2021-06-02', '2021-06-03', '2021-06-04',\n",
       "               '2021-06-05', '2021-06-06', '2021-06-07', '2021-06-08',\n",
       "               '2021-06-09', '2021-06-10', '2021-06-11', '2021-06-12',\n",
       "               '2021-06-13', '2021-06-14', '2021-06-15'],\n",
       "              dtype='datetime64[ns]', freq='D')"
      ]
     },
     "execution_count": 59,
     "metadata": {},
     "output_type": "execute_result"
    }
   ],
   "source": [
    "#give 15 day before end time(go backward)\n",
    "pd.date_range(end=\"2021-06-15\" , periods=15 , freq=\"d\")"
   ]
  }
 ],
 "metadata": {
  "kernelspec": {
   "display_name": "Python 3 (ipykernel)",
   "language": "python",
   "name": "python3"
  },
  "language_info": {
   "codemirror_mode": {
    "name": "ipython",
    "version": 3
   },
   "file_extension": ".py",
   "mimetype": "text/x-python",
   "name": "python",
   "nbconvert_exporter": "python",
   "pygments_lexer": "ipython3",
   "version": "3.9.12"
  }
 },
 "nbformat": 4,
 "nbformat_minor": 5
}
