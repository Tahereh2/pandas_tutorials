{
 "cells": [
  {
   "cell_type": "markdown",
   "id": "81c5b4bf",
   "metadata": {},
   "source": [
    "# pandas"
   ]
  },
  {
   "cell_type": "code",
   "execution_count": 1,
   "id": "d6aee39e",
   "metadata": {},
   "outputs": [],
   "source": [
    "import pandas as pd"
   ]
  },
  {
   "cell_type": "code",
   "execution_count": 2,
   "id": "480c5c2e",
   "metadata": {},
   "outputs": [],
   "source": [
    "list=[\"a\",\"b\",\"c\",\"d\",\"e\",\"f\",\"g\",\"h\",\"i\"]"
   ]
  },
  {
   "cell_type": "code",
   "execution_count": 3,
   "id": "3fc101d5",
   "metadata": {},
   "outputs": [],
   "source": [
    "#Series is an object to make series in pandas(data=None, index=None, dtype=None, name=None, copy=False, fastpath=False)\n",
    "list_serie=pd.Series(data=list)"
   ]
  },
  {
   "cell_type": "code",
   "execution_count": 4,
   "id": "88d293f0",
   "metadata": {},
   "outputs": [
    {
     "data": {
      "text/plain": [
       "0    a\n",
       "1    b\n",
       "2    c\n",
       "3    d\n",
       "4    e\n",
       "5    f\n",
       "6    g\n",
       "7    h\n",
       "8    i\n",
       "dtype: object"
      ]
     },
     "execution_count": 4,
     "metadata": {},
     "output_type": "execute_result"
    }
   ],
   "source": [
    "list_serie"
   ]
  },
  {
   "cell_type": "code",
   "execution_count": 5,
   "id": "6c7a65d8",
   "metadata": {},
   "outputs": [
    {
     "data": {
      "text/plain": [
       "fooluks    german\n",
       "toyota      japan\n",
       "ford          usa\n",
       "saypa        iran\n",
       "dtype: object"
      ]
     },
     "execution_count": 5,
     "metadata": {},
     "output_type": "execute_result"
    }
   ],
   "source": [
    "car={\"fooluks\":\"german\",\"toyota\":\"japan\",\"ford\":\"usa\",\"saypa\":\"iran\"}\n",
    "s=pd.Series(car)\n",
    "s"
   ]
  },
  {
   "cell_type": "markdown",
   "id": "fd1f98ea",
   "metadata": {},
   "source": [
    "# series attribute an methods\n",
    "\n",
    "diffrence between attributes and methods (attributes don't need paranteses but methods need)"
   ]
  },
  {
   "cell_type": "markdown",
   "id": "fa281e79",
   "metadata": {},
   "source": [
    "attribute"
   ]
  },
  {
   "cell_type": "code",
   "execution_count": 6,
   "id": "239a3009",
   "metadata": {},
   "outputs": [
    {
     "data": {
      "text/plain": [
       "0    1\n",
       "1    2\n",
       "2    3\n",
       "3    4\n",
       "4    5\n",
       "5    6\n",
       "6    7\n",
       "7    8\n",
       "8    9\n",
       "dtype: int64"
      ]
     },
     "execution_count": 6,
     "metadata": {},
     "output_type": "execute_result"
    }
   ],
   "source": [
    "lst=[1,2,3,4,5,6,7,8,9]\n",
    "s=pd.Series(lst)\n",
    "s"
   ]
  },
  {
   "cell_type": "code",
   "execution_count": 7,
   "id": "4936296b",
   "metadata": {},
   "outputs": [
    {
     "data": {
      "text/plain": [
       "array([1, 2, 3, 4, 5, 6, 7, 8, 9], dtype=int64)"
      ]
     },
     "execution_count": 7,
     "metadata": {},
     "output_type": "execute_result"
    }
   ],
   "source": [
    "s.values"
   ]
  },
  {
   "cell_type": "code",
   "execution_count": 8,
   "id": "f6d5cb4a",
   "metadata": {},
   "outputs": [
    {
     "data": {
      "text/plain": [
       "RangeIndex(start=0, stop=9, step=1)"
      ]
     },
     "execution_count": 8,
     "metadata": {},
     "output_type": "execute_result"
    }
   ],
   "source": [
    "s.index"
   ]
  },
  {
   "cell_type": "code",
   "execution_count": 9,
   "id": "4df04a07",
   "metadata": {},
   "outputs": [
    {
     "data": {
      "text/plain": [
       "dtype('int64')"
      ]
     },
     "execution_count": 9,
     "metadata": {},
     "output_type": "execute_result"
    }
   ],
   "source": [
    "#o :object   int:number    float:decimal\n",
    "s.dtype"
   ]
  },
  {
   "cell_type": "markdown",
   "id": "c5dc5b57",
   "metadata": {},
   "source": [
    "methods"
   ]
  },
  {
   "cell_type": "code",
   "execution_count": 10,
   "id": "d902b839",
   "metadata": {},
   "outputs": [
    {
     "data": {
      "text/plain": [
       "45"
      ]
     },
     "execution_count": 10,
     "metadata": {},
     "output_type": "execute_result"
    }
   ],
   "source": [
    "s.sum()"
   ]
  },
  {
   "cell_type": "code",
   "execution_count": 11,
   "id": "0908f1ab",
   "metadata": {},
   "outputs": [
    {
     "data": {
      "text/plain": [
       "362880"
      ]
     },
     "execution_count": 11,
     "metadata": {},
     "output_type": "execute_result"
    }
   ],
   "source": [
    "s.product()"
   ]
  },
  {
   "cell_type": "code",
   "execution_count": 12,
   "id": "a3eec4e4",
   "metadata": {},
   "outputs": [
    {
     "data": {
      "text/plain": [
       "5.0"
      ]
     },
     "execution_count": 12,
     "metadata": {},
     "output_type": "execute_result"
    }
   ],
   "source": [
    "s.mean()"
   ]
  },
  {
   "cell_type": "markdown",
   "id": "72d23cfb",
   "metadata": {},
   "source": [
    "# parameter and argument"
   ]
  },
  {
   "cell_type": "code",
   "execution_count": 13,
   "id": "364b7fac",
   "metadata": {},
   "outputs": [],
   "source": [
    "countries=[\"denmark\",\"finland\",\"norway\",\"iceland\",\"sweden\"]\n",
    "capitals=[\"copenhang\",\"helsinki\",\"oslo\",\"reyjavik\",\"stockholm\"]"
   ]
  },
  {
   "cell_type": "code",
   "execution_count": 14,
   "id": "f01418b0",
   "metadata": {
    "scrolled": true
   },
   "outputs": [
    {
     "data": {
      "text/plain": [
       "copenhang    denmark\n",
       "helsinki     finland\n",
       "oslo          norway\n",
       "reyjavik     iceland\n",
       "stockholm     sweden\n",
       "dtype: object"
      ]
     },
     "execution_count": 14,
     "metadata": {},
     "output_type": "execute_result"
    }
   ],
   "source": [
    "serie=pd.Series(data=countries , index=capitals)\n",
    "serie"
   ]
  },
  {
   "cell_type": "code",
   "execution_count": 15,
   "id": "a9c02b67",
   "metadata": {},
   "outputs": [
    {
     "name": "stderr",
     "output_type": "stream",
     "text": [
      "C:\\Users\\Science Pillar\\AppData\\Local\\Temp\\ipykernel_6052\\3486438417.py:2: FutureWarning: The squeeze argument has been deprecated and will be removed in a future version. Append .squeeze(\"columns\") to the call to squeeze.\n",
      "\n",
      "\n",
      "  data=pd.read_csv(\"D:\\\\tala\\\\data science projects\\\\dr.fozouni\\\\jamesbond.csv\" , usecols=[\"Film\"] , squeeze=True)#index_col=[\"Film\"]\n"
     ]
    },
    {
     "data": {
      "text/plain": [
       "0                              Dr. No\n",
       "1               From Russia with Love\n",
       "2                          Goldfinger\n",
       "3                         Thunderball\n",
       "4                       Casino Royale\n",
       "5                 You Only Live Twice\n",
       "6     On Her Majesty's Secret Service\n",
       "7                Diamonds Are Forever\n",
       "8                    Live and Let Die\n",
       "9         The Man with the Golden Gun\n",
       "10               The Spy Who Loved Me\n",
       "11                          Moonraker\n",
       "12                 For Your Eyes Only\n",
       "13              Never Say Never Again\n",
       "14                          Octopussy\n",
       "15                   A View to a Kill\n",
       "16               The Living Daylights\n",
       "17                    Licence to Kill\n",
       "18                          GoldenEye\n",
       "19                Tomorrow Never Dies\n",
       "20            The World Is Not Enough\n",
       "21                    Die Another Day\n",
       "22                      Casino Royale\n",
       "23                  Quantum of Solace\n",
       "24                            Skyfall\n",
       "25                            Spectre\n",
       "Name: Film, dtype: object"
      ]
     },
     "execution_count": 15,
     "metadata": {},
     "output_type": "execute_result"
    }
   ],
   "source": [
    "#usecols for choosing the column and squeeze for changing it to be a serie\n",
    "data=pd.read_csv(\"D:\\\\tala\\\\data science projects\\\\dr.fozouni\\\\jamesbond.csv\" , usecols=[\"Film\"] , squeeze=True)#index_col=[\"Film\"]\n",
    "data"
   ]
  },
  {
   "cell_type": "code",
   "execution_count": 16,
   "id": "578c01d6",
   "metadata": {},
   "outputs": [
    {
     "data": {
      "text/plain": [
       "False"
      ]
     },
     "execution_count": 16,
     "metadata": {},
     "output_type": "execute_result"
    }
   ],
   "source": [
    "data.is_unique"
   ]
  },
  {
   "cell_type": "code",
   "execution_count": 17,
   "id": "5011331a",
   "metadata": {},
   "outputs": [
    {
     "data": {
      "text/plain": [
       "(26,)"
      ]
     },
     "execution_count": 17,
     "metadata": {},
     "output_type": "execute_result"
    }
   ],
   "source": [
    "data.shape"
   ]
  },
  {
   "cell_type": "code",
   "execution_count": 18,
   "id": "0ca903c5",
   "metadata": {},
   "outputs": [
    {
     "data": {
      "text/plain": [
       "1"
      ]
     },
     "execution_count": 18,
     "metadata": {},
     "output_type": "execute_result"
    }
   ],
   "source": [
    "data.ndim"
   ]
  },
  {
   "cell_type": "code",
   "execution_count": 19,
   "id": "72170b21",
   "metadata": {},
   "outputs": [
    {
     "data": {
      "text/plain": [
       "26"
      ]
     },
     "execution_count": 19,
     "metadata": {},
     "output_type": "execute_result"
    }
   ],
   "source": [
    "data.size"
   ]
  },
  {
   "cell_type": "code",
   "execution_count": 20,
   "id": "a9551ce1",
   "metadata": {},
   "outputs": [
    {
     "data": {
      "text/plain": [
       "26"
      ]
     },
     "execution_count": 20,
     "metadata": {},
     "output_type": "execute_result"
    }
   ],
   "source": [
    "len(data)"
   ]
  },
  {
   "cell_type": "markdown",
   "id": "b2157a75",
   "metadata": {},
   "source": [
    "# functions"
   ]
  },
  {
   "cell_type": "code",
   "execution_count": 21,
   "id": "522a2f4c",
   "metadata": {},
   "outputs": [
    {
     "data": {
      "text/plain": [
       "15                   A View to a Kill\n",
       "22                      Casino Royale\n",
       "4                       Casino Royale\n",
       "7                Diamonds Are Forever\n",
       "21                    Die Another Day\n",
       "0                              Dr. No\n",
       "12                 For Your Eyes Only\n",
       "1               From Russia with Love\n",
       "18                          GoldenEye\n",
       "2                          Goldfinger\n",
       "17                    Licence to Kill\n",
       "8                    Live and Let Die\n",
       "11                          Moonraker\n",
       "13              Never Say Never Again\n",
       "14                          Octopussy\n",
       "6     On Her Majesty's Secret Service\n",
       "23                  Quantum of Solace\n",
       "24                            Skyfall\n",
       "25                            Spectre\n",
       "16               The Living Daylights\n",
       "9         The Man with the Golden Gun\n",
       "10               The Spy Who Loved Me\n",
       "20            The World Is Not Enough\n",
       "3                         Thunderball\n",
       "19                Tomorrow Never Dies\n",
       "5                 You Only Live Twice\n",
       "Name: Film, dtype: object"
      ]
     },
     "execution_count": 21,
     "metadata": {},
     "output_type": "execute_result"
    }
   ],
   "source": [
    "##chain\n",
    "# .sort_value() is  sorting our data\n",
    "data.sort_values()# .sort_values(ascending=False)"
   ]
  },
  {
   "cell_type": "code",
   "execution_count": 22,
   "id": "bc92e75e",
   "metadata": {},
   "outputs": [
    {
     "data": {
      "text/plain": [
       "15        A View to a Kill\n",
       "22           Casino Royale\n",
       "4            Casino Royale\n",
       "7     Diamonds Are Forever\n",
       "21         Die Another Day\n",
       "Name: Film, dtype: object"
      ]
     },
     "execution_count": 22,
     "metadata": {},
     "output_type": "execute_result"
    }
   ],
   "source": [
    "#data.sort_values(ascending= False , inplace=False) index is fixing\n",
    "data.sort_values().head()"
   ]
  },
  {
   "cell_type": "code",
   "execution_count": 23,
   "id": "e7c4112a",
   "metadata": {},
   "outputs": [
    {
     "data": {
      "text/plain": [
       "0                   Dr. No\n",
       "1    From Russia with Love\n",
       "2               Goldfinger\n",
       "3              Thunderball\n",
       "4            Casino Royale\n",
       "Name: Film, dtype: object"
      ]
     },
     "execution_count": 23,
     "metadata": {},
     "output_type": "execute_result"
    }
   ],
   "source": [
    "data.sort_index().head()"
   ]
  },
  {
   "cell_type": "code",
   "execution_count": 24,
   "id": "96e09d77",
   "metadata": {},
   "outputs": [
    {
     "data": {
      "text/plain": [
       "False"
      ]
     },
     "execution_count": 24,
     "metadata": {},
     "output_type": "execute_result"
    }
   ],
   "source": [
    "# is \"Goldfinger\" in the indexes?\n",
    "\"Goldfinger\" in data"
   ]
  },
  {
   "cell_type": "code",
   "execution_count": 25,
   "id": "e413148e",
   "metadata": {},
   "outputs": [
    {
     "data": {
      "text/plain": [
       "True"
      ]
     },
     "execution_count": 25,
     "metadata": {},
     "output_type": "execute_result"
    }
   ],
   "source": [
    "# is \"Goldfinger\" in the values?\n",
    "\"Goldfinger\" in data.values"
   ]
  },
  {
   "cell_type": "code",
   "execution_count": 26,
   "id": "e3aabfa8",
   "metadata": {},
   "outputs": [
    {
     "data": {
      "text/plain": [
       "'Casino Royale'"
      ]
     },
     "execution_count": 26,
     "metadata": {},
     "output_type": "execute_result"
    }
   ],
   "source": [
    "#what is the value of the index numbe?\n",
    "data[4]"
   ]
  },
  {
   "cell_type": "code",
   "execution_count": 27,
   "id": "05c8ee27",
   "metadata": {},
   "outputs": [
    {
     "data": {
      "text/plain": [
       "2              Goldfinger\n",
       "4           Casino Royale\n",
       "7    Diamonds Are Forever\n",
       "Name: Film, dtype: object"
      ]
     },
     "execution_count": 27,
     "metadata": {},
     "output_type": "execute_result"
    }
   ],
   "source": [
    "data[[2,4,7]]"
   ]
  },
  {
   "cell_type": "code",
   "execution_count": 28,
   "id": "3404d697",
   "metadata": {},
   "outputs": [
    {
     "data": {
      "text/plain": [
       "5                You Only Live Twice\n",
       "6    On Her Majesty's Secret Service\n",
       "7               Diamonds Are Forever\n",
       "Name: Film, dtype: object"
      ]
     },
     "execution_count": 28,
     "metadata": {},
     "output_type": "execute_result"
    }
   ],
   "source": [
    "data[5:8]"
   ]
  },
  {
   "cell_type": "code",
   "execution_count": 29,
   "id": "224f175f",
   "metadata": {},
   "outputs": [
    {
     "data": {
      "text/plain": [
       "22        Casino Royale\n",
       "23    Quantum of Solace\n",
       "24              Skyfall\n",
       "25              Spectre\n",
       "Name: Film, dtype: object"
      ]
     },
     "execution_count": 29,
     "metadata": {},
     "output_type": "execute_result"
    }
   ],
   "source": [
    "data[-4:]"
   ]
  },
  {
   "cell_type": "code",
   "execution_count": 30,
   "id": "ac03c574",
   "metadata": {},
   "outputs": [
    {
     "data": {
      "text/plain": [
       "'it isnt in data'"
      ]
     },
     "execution_count": 30,
     "metadata": {},
     "output_type": "execute_result"
    }
   ],
   "source": [
    "#for forbiden of errors\n",
    "data.get([100] , default=\"it isnt in data\")"
   ]
  },
  {
   "cell_type": "code",
   "execution_count": 31,
   "id": "a033da98",
   "metadata": {},
   "outputs": [
    {
     "data": {
      "text/plain": [
       "26"
      ]
     },
     "execution_count": 31,
     "metadata": {},
     "output_type": "execute_result"
    }
   ],
   "source": [
    "# in count if we have null value it wont count then but in len it will count them too\n",
    "data.count()"
   ]
  },
  {
   "cell_type": "code",
   "execution_count": 32,
   "id": "09b2c8be",
   "metadata": {},
   "outputs": [
    {
     "data": {
      "text/plain": [
       "2.7386127875258306"
      ]
     },
     "execution_count": 32,
     "metadata": {},
     "output_type": "execute_result"
    }
   ],
   "source": [
    "s.std()"
   ]
  },
  {
   "cell_type": "code",
   "execution_count": 33,
   "id": "687f45e6",
   "metadata": {},
   "outputs": [
    {
     "data": {
      "text/plain": [
       "1"
      ]
     },
     "execution_count": 33,
     "metadata": {},
     "output_type": "execute_result"
    }
   ],
   "source": [
    "s.min()"
   ]
  },
  {
   "cell_type": "code",
   "execution_count": 34,
   "id": "3e01c1e1",
   "metadata": {},
   "outputs": [
    {
     "data": {
      "text/plain": [
       "9"
      ]
     },
     "execution_count": 34,
     "metadata": {},
     "output_type": "execute_result"
    }
   ],
   "source": [
    "s.max()"
   ]
  },
  {
   "cell_type": "code",
   "execution_count": 35,
   "id": "98223fe2",
   "metadata": {},
   "outputs": [
    {
     "data": {
      "text/plain": [
       "5.0"
      ]
     },
     "execution_count": 35,
     "metadata": {},
     "output_type": "execute_result"
    }
   ],
   "source": [
    "s.median()"
   ]
  },
  {
   "cell_type": "code",
   "execution_count": 36,
   "id": "07ef5993",
   "metadata": {},
   "outputs": [
    {
     "data": {
      "text/plain": [
       "count    9.000000\n",
       "mean     5.000000\n",
       "std      2.738613\n",
       "min      1.000000\n",
       "25%      3.000000\n",
       "50%      5.000000\n",
       "75%      7.000000\n",
       "max      9.000000\n",
       "dtype: float64"
      ]
     },
     "execution_count": 36,
     "metadata": {},
     "output_type": "execute_result"
    }
   ],
   "source": [
    "s.describe()"
   ]
  },
  {
   "cell_type": "code",
   "execution_count": 37,
   "id": "7108c1c4",
   "metadata": {},
   "outputs": [
    {
     "data": {
      "text/plain": [
       "0"
      ]
     },
     "execution_count": 37,
     "metadata": {},
     "output_type": "execute_result"
    }
   ],
   "source": [
    "#minimum amount is in which index\n",
    "s.idxmin()"
   ]
  },
  {
   "cell_type": "code",
   "execution_count": 38,
   "id": "5fae28e2",
   "metadata": {},
   "outputs": [
    {
     "data": {
      "text/plain": [
       "8"
      ]
     },
     "execution_count": 38,
     "metadata": {},
     "output_type": "execute_result"
    }
   ],
   "source": [
    "s.idxmax()"
   ]
  },
  {
   "cell_type": "code",
   "execution_count": 39,
   "id": "b935395d",
   "metadata": {},
   "outputs": [
    {
     "data": {
      "text/plain": [
       "1    2\n",
       "2    2\n",
       "3    2\n",
       "4    2\n",
       "5    1\n",
       "6    1\n",
       "8    1\n",
       "dtype: int64"
      ]
     },
     "execution_count": 39,
     "metadata": {},
     "output_type": "execute_result"
    }
   ],
   "source": [
    "#showing frequency in values\n",
    "a=[1,2,3,1,2,4,5,6,3,4,8]\n",
    "b=pd.Series(a)\n",
    "b.value_counts()"
   ]
  },
  {
   "cell_type": "code",
   "execution_count": 40,
   "id": "3814d9d5",
   "metadata": {},
   "outputs": [],
   "source": [
    "# apply method in functions\n",
    "def satisfy(x):\n",
    "    if x<=3:\n",
    "        return \"bad\"\n",
    "    elif x>4 and x<=6:\n",
    "        return \"normal\"\n",
    "    else:\n",
    "        return \"good\""
   ]
  },
  {
   "cell_type": "code",
   "execution_count": 41,
   "id": "3bb5efd8",
   "metadata": {},
   "outputs": [
    {
     "data": {
      "text/plain": [
       "0        bad\n",
       "1        bad\n",
       "2        bad\n",
       "3        bad\n",
       "4        bad\n",
       "5       good\n",
       "6     normal\n",
       "7     normal\n",
       "8        bad\n",
       "9       good\n",
       "10      good\n",
       "dtype: object"
      ]
     },
     "execution_count": 41,
     "metadata": {},
     "output_type": "execute_result"
    }
   ],
   "source": [
    "b.apply(satisfy)"
   ]
  },
  {
   "cell_type": "code",
   "execution_count": 42,
   "id": "55585879",
   "metadata": {},
   "outputs": [
    {
     "data": {
      "text/plain": [
       "0     2\n",
       "1     3\n",
       "2     4\n",
       "3     2\n",
       "4     3\n",
       "5     5\n",
       "6     6\n",
       "7     7\n",
       "8     4\n",
       "9     5\n",
       "10    9\n",
       "dtype: int64"
      ]
     },
     "execution_count": 42,
     "metadata": {},
     "output_type": "execute_result"
    }
   ],
   "source": [
    "b.apply(lambda x:x+1)"
   ]
  },
  {
   "cell_type": "markdown",
   "id": "d404fb5e",
   "metadata": {},
   "source": [
    "# dataframes"
   ]
  },
  {
   "cell_type": "code",
   "execution_count": 43,
   "id": "1c9568ba",
   "metadata": {},
   "outputs": [
    {
     "data": {
      "text/html": [
       "<div>\n",
       "<style scoped>\n",
       "    .dataframe tbody tr th:only-of-type {\n",
       "        vertical-align: middle;\n",
       "    }\n",
       "\n",
       "    .dataframe tbody tr th {\n",
       "        vertical-align: top;\n",
       "    }\n",
       "\n",
       "    .dataframe thead th {\n",
       "        text-align: right;\n",
       "    }\n",
       "</style>\n",
       "<table border=\"1\" class=\"dataframe\">\n",
       "  <thead>\n",
       "    <tr style=\"text-align: right;\">\n",
       "      <th></th>\n",
       "      <th>Film</th>\n",
       "      <th>Year</th>\n",
       "      <th>Actor</th>\n",
       "      <th>Director</th>\n",
       "      <th>Box Office</th>\n",
       "      <th>Budget</th>\n",
       "      <th>Bond Actor Salary</th>\n",
       "    </tr>\n",
       "  </thead>\n",
       "  <tbody>\n",
       "    <tr>\n",
       "      <th>0</th>\n",
       "      <td>Dr. No</td>\n",
       "      <td>1962</td>\n",
       "      <td>Sean Connery</td>\n",
       "      <td>Terence Young</td>\n",
       "      <td>448.8</td>\n",
       "      <td>7.0</td>\n",
       "      <td>0.6</td>\n",
       "    </tr>\n",
       "    <tr>\n",
       "      <th>1</th>\n",
       "      <td>From Russia with Love</td>\n",
       "      <td>1963</td>\n",
       "      <td>Sean Connery</td>\n",
       "      <td>Terence Young</td>\n",
       "      <td>543.8</td>\n",
       "      <td>12.6</td>\n",
       "      <td>1.6</td>\n",
       "    </tr>\n",
       "    <tr>\n",
       "      <th>2</th>\n",
       "      <td>Goldfinger</td>\n",
       "      <td>1964</td>\n",
       "      <td>Sean Connery</td>\n",
       "      <td>Guy Hamilton</td>\n",
       "      <td>820.4</td>\n",
       "      <td>18.6</td>\n",
       "      <td>3.2</td>\n",
       "    </tr>\n",
       "    <tr>\n",
       "      <th>3</th>\n",
       "      <td>Thunderball</td>\n",
       "      <td>1965</td>\n",
       "      <td>Sean Connery</td>\n",
       "      <td>Terence Young</td>\n",
       "      <td>848.1</td>\n",
       "      <td>41.9</td>\n",
       "      <td>4.7</td>\n",
       "    </tr>\n",
       "    <tr>\n",
       "      <th>4</th>\n",
       "      <td>Casino Royale</td>\n",
       "      <td>1967</td>\n",
       "      <td>David Niven</td>\n",
       "      <td>Ken Hughes</td>\n",
       "      <td>315.0</td>\n",
       "      <td>85.0</td>\n",
       "      <td>NaN</td>\n",
       "    </tr>\n",
       "    <tr>\n",
       "      <th>5</th>\n",
       "      <td>You Only Live Twice</td>\n",
       "      <td>1967</td>\n",
       "      <td>Sean Connery</td>\n",
       "      <td>Lewis Gilbert</td>\n",
       "      <td>514.2</td>\n",
       "      <td>59.9</td>\n",
       "      <td>4.4</td>\n",
       "    </tr>\n",
       "    <tr>\n",
       "      <th>6</th>\n",
       "      <td>On Her Majesty's Secret Service</td>\n",
       "      <td>1969</td>\n",
       "      <td>George Lazenby</td>\n",
       "      <td>Peter R. Hunt</td>\n",
       "      <td>291.5</td>\n",
       "      <td>37.3</td>\n",
       "      <td>0.6</td>\n",
       "    </tr>\n",
       "    <tr>\n",
       "      <th>7</th>\n",
       "      <td>Diamonds Are Forever</td>\n",
       "      <td>1971</td>\n",
       "      <td>Sean Connery</td>\n",
       "      <td>Guy Hamilton</td>\n",
       "      <td>442.5</td>\n",
       "      <td>34.7</td>\n",
       "      <td>5.8</td>\n",
       "    </tr>\n",
       "    <tr>\n",
       "      <th>8</th>\n",
       "      <td>Live and Let Die</td>\n",
       "      <td>1973</td>\n",
       "      <td>Roger Moore</td>\n",
       "      <td>Guy Hamilton</td>\n",
       "      <td>460.3</td>\n",
       "      <td>30.8</td>\n",
       "      <td>NaN</td>\n",
       "    </tr>\n",
       "    <tr>\n",
       "      <th>9</th>\n",
       "      <td>The Man with the Golden Gun</td>\n",
       "      <td>1974</td>\n",
       "      <td>Roger Moore</td>\n",
       "      <td>Guy Hamilton</td>\n",
       "      <td>334.0</td>\n",
       "      <td>27.7</td>\n",
       "      <td>NaN</td>\n",
       "    </tr>\n",
       "    <tr>\n",
       "      <th>10</th>\n",
       "      <td>The Spy Who Loved Me</td>\n",
       "      <td>1977</td>\n",
       "      <td>Roger Moore</td>\n",
       "      <td>Lewis Gilbert</td>\n",
       "      <td>533.0</td>\n",
       "      <td>45.1</td>\n",
       "      <td>NaN</td>\n",
       "    </tr>\n",
       "    <tr>\n",
       "      <th>11</th>\n",
       "      <td>Moonraker</td>\n",
       "      <td>1979</td>\n",
       "      <td>Roger Moore</td>\n",
       "      <td>Lewis Gilbert</td>\n",
       "      <td>535.0</td>\n",
       "      <td>91.5</td>\n",
       "      <td>NaN</td>\n",
       "    </tr>\n",
       "    <tr>\n",
       "      <th>12</th>\n",
       "      <td>For Your Eyes Only</td>\n",
       "      <td>1981</td>\n",
       "      <td>Roger Moore</td>\n",
       "      <td>John Glen</td>\n",
       "      <td>449.4</td>\n",
       "      <td>60.2</td>\n",
       "      <td>NaN</td>\n",
       "    </tr>\n",
       "    <tr>\n",
       "      <th>13</th>\n",
       "      <td>Never Say Never Again</td>\n",
       "      <td>1983</td>\n",
       "      <td>Sean Connery</td>\n",
       "      <td>Irvin Kershner</td>\n",
       "      <td>380.0</td>\n",
       "      <td>86.0</td>\n",
       "      <td>NaN</td>\n",
       "    </tr>\n",
       "    <tr>\n",
       "      <th>14</th>\n",
       "      <td>Octopussy</td>\n",
       "      <td>1983</td>\n",
       "      <td>Roger Moore</td>\n",
       "      <td>John Glen</td>\n",
       "      <td>373.8</td>\n",
       "      <td>53.9</td>\n",
       "      <td>7.8</td>\n",
       "    </tr>\n",
       "    <tr>\n",
       "      <th>15</th>\n",
       "      <td>A View to a Kill</td>\n",
       "      <td>1985</td>\n",
       "      <td>Roger Moore</td>\n",
       "      <td>John Glen</td>\n",
       "      <td>275.2</td>\n",
       "      <td>54.5</td>\n",
       "      <td>9.1</td>\n",
       "    </tr>\n",
       "    <tr>\n",
       "      <th>16</th>\n",
       "      <td>The Living Daylights</td>\n",
       "      <td>1987</td>\n",
       "      <td>Timothy Dalton</td>\n",
       "      <td>John Glen</td>\n",
       "      <td>313.5</td>\n",
       "      <td>68.8</td>\n",
       "      <td>5.2</td>\n",
       "    </tr>\n",
       "    <tr>\n",
       "      <th>17</th>\n",
       "      <td>Licence to Kill</td>\n",
       "      <td>1989</td>\n",
       "      <td>Timothy Dalton</td>\n",
       "      <td>John Glen</td>\n",
       "      <td>250.9</td>\n",
       "      <td>56.7</td>\n",
       "      <td>7.9</td>\n",
       "    </tr>\n",
       "    <tr>\n",
       "      <th>18</th>\n",
       "      <td>GoldenEye</td>\n",
       "      <td>1995</td>\n",
       "      <td>Pierce Brosnan</td>\n",
       "      <td>Martin Campbell</td>\n",
       "      <td>518.5</td>\n",
       "      <td>76.9</td>\n",
       "      <td>5.1</td>\n",
       "    </tr>\n",
       "    <tr>\n",
       "      <th>19</th>\n",
       "      <td>Tomorrow Never Dies</td>\n",
       "      <td>1997</td>\n",
       "      <td>Pierce Brosnan</td>\n",
       "      <td>Roger Spottiswoode</td>\n",
       "      <td>463.2</td>\n",
       "      <td>133.9</td>\n",
       "      <td>10.0</td>\n",
       "    </tr>\n",
       "    <tr>\n",
       "      <th>20</th>\n",
       "      <td>The World Is Not Enough</td>\n",
       "      <td>1999</td>\n",
       "      <td>Pierce Brosnan</td>\n",
       "      <td>Michael Apted</td>\n",
       "      <td>439.5</td>\n",
       "      <td>158.3</td>\n",
       "      <td>13.5</td>\n",
       "    </tr>\n",
       "    <tr>\n",
       "      <th>21</th>\n",
       "      <td>Die Another Day</td>\n",
       "      <td>2002</td>\n",
       "      <td>Pierce Brosnan</td>\n",
       "      <td>Lee Tamahori</td>\n",
       "      <td>465.4</td>\n",
       "      <td>154.2</td>\n",
       "      <td>17.9</td>\n",
       "    </tr>\n",
       "    <tr>\n",
       "      <th>22</th>\n",
       "      <td>Casino Royale</td>\n",
       "      <td>2006</td>\n",
       "      <td>Daniel Craig</td>\n",
       "      <td>Martin Campbell</td>\n",
       "      <td>581.5</td>\n",
       "      <td>145.3</td>\n",
       "      <td>3.3</td>\n",
       "    </tr>\n",
       "    <tr>\n",
       "      <th>23</th>\n",
       "      <td>Quantum of Solace</td>\n",
       "      <td>2008</td>\n",
       "      <td>Daniel Craig</td>\n",
       "      <td>Marc Forster</td>\n",
       "      <td>514.2</td>\n",
       "      <td>181.4</td>\n",
       "      <td>8.1</td>\n",
       "    </tr>\n",
       "    <tr>\n",
       "      <th>24</th>\n",
       "      <td>Skyfall</td>\n",
       "      <td>2012</td>\n",
       "      <td>Daniel Craig</td>\n",
       "      <td>Sam Mendes</td>\n",
       "      <td>943.5</td>\n",
       "      <td>170.2</td>\n",
       "      <td>14.5</td>\n",
       "    </tr>\n",
       "    <tr>\n",
       "      <th>25</th>\n",
       "      <td>Spectre</td>\n",
       "      <td>2015</td>\n",
       "      <td>Daniel Craig</td>\n",
       "      <td>Sam Mendes</td>\n",
       "      <td>726.7</td>\n",
       "      <td>206.3</td>\n",
       "      <td>NaN</td>\n",
       "    </tr>\n",
       "  </tbody>\n",
       "</table>\n",
       "</div>"
      ],
      "text/plain": [
       "                               Film  Year           Actor            Director  \\\n",
       "0                            Dr. No  1962    Sean Connery       Terence Young   \n",
       "1             From Russia with Love  1963    Sean Connery       Terence Young   \n",
       "2                        Goldfinger  1964    Sean Connery        Guy Hamilton   \n",
       "3                       Thunderball  1965    Sean Connery       Terence Young   \n",
       "4                     Casino Royale  1967     David Niven          Ken Hughes   \n",
       "5               You Only Live Twice  1967    Sean Connery       Lewis Gilbert   \n",
       "6   On Her Majesty's Secret Service  1969  George Lazenby       Peter R. Hunt   \n",
       "7              Diamonds Are Forever  1971    Sean Connery        Guy Hamilton   \n",
       "8                  Live and Let Die  1973     Roger Moore        Guy Hamilton   \n",
       "9       The Man with the Golden Gun  1974     Roger Moore        Guy Hamilton   \n",
       "10             The Spy Who Loved Me  1977     Roger Moore       Lewis Gilbert   \n",
       "11                        Moonraker  1979     Roger Moore       Lewis Gilbert   \n",
       "12               For Your Eyes Only  1981     Roger Moore           John Glen   \n",
       "13            Never Say Never Again  1983    Sean Connery      Irvin Kershner   \n",
       "14                        Octopussy  1983     Roger Moore           John Glen   \n",
       "15                 A View to a Kill  1985     Roger Moore           John Glen   \n",
       "16             The Living Daylights  1987  Timothy Dalton           John Glen   \n",
       "17                  Licence to Kill  1989  Timothy Dalton           John Glen   \n",
       "18                        GoldenEye  1995  Pierce Brosnan     Martin Campbell   \n",
       "19              Tomorrow Never Dies  1997  Pierce Brosnan  Roger Spottiswoode   \n",
       "20          The World Is Not Enough  1999  Pierce Brosnan       Michael Apted   \n",
       "21                  Die Another Day  2002  Pierce Brosnan        Lee Tamahori   \n",
       "22                    Casino Royale  2006    Daniel Craig     Martin Campbell   \n",
       "23                Quantum of Solace  2008    Daniel Craig        Marc Forster   \n",
       "24                          Skyfall  2012    Daniel Craig          Sam Mendes   \n",
       "25                          Spectre  2015    Daniel Craig          Sam Mendes   \n",
       "\n",
       "    Box Office  Budget  Bond Actor Salary  \n",
       "0        448.8     7.0                0.6  \n",
       "1        543.8    12.6                1.6  \n",
       "2        820.4    18.6                3.2  \n",
       "3        848.1    41.9                4.7  \n",
       "4        315.0    85.0                NaN  \n",
       "5        514.2    59.9                4.4  \n",
       "6        291.5    37.3                0.6  \n",
       "7        442.5    34.7                5.8  \n",
       "8        460.3    30.8                NaN  \n",
       "9        334.0    27.7                NaN  \n",
       "10       533.0    45.1                NaN  \n",
       "11       535.0    91.5                NaN  \n",
       "12       449.4    60.2                NaN  \n",
       "13       380.0    86.0                NaN  \n",
       "14       373.8    53.9                7.8  \n",
       "15       275.2    54.5                9.1  \n",
       "16       313.5    68.8                5.2  \n",
       "17       250.9    56.7                7.9  \n",
       "18       518.5    76.9                5.1  \n",
       "19       463.2   133.9               10.0  \n",
       "20       439.5   158.3               13.5  \n",
       "21       465.4   154.2               17.9  \n",
       "22       581.5   145.3                3.3  \n",
       "23       514.2   181.4                8.1  \n",
       "24       943.5   170.2               14.5  \n",
       "25       726.7   206.3                NaN  "
      ]
     },
     "execution_count": 43,
     "metadata": {},
     "output_type": "execute_result"
    }
   ],
   "source": [
    "df=pd.read_csv(\"D:\\\\tala\\\\data science projects\\\\dr.fozouni\\\\jamesbond.csv\")\n",
    "df"
   ]
  },
  {
   "cell_type": "code",
   "execution_count": 44,
   "id": "440c67ce",
   "metadata": {},
   "outputs": [
    {
     "data": {
      "text/plain": [
       "RangeIndex(start=0, stop=26, step=1)"
      ]
     },
     "execution_count": 44,
     "metadata": {},
     "output_type": "execute_result"
    }
   ],
   "source": [
    "df.index"
   ]
  },
  {
   "cell_type": "code",
   "execution_count": 45,
   "id": "7ea748d8",
   "metadata": {},
   "outputs": [
    {
     "data": {
      "text/plain": [
       "array([['Dr. No', 1962, 'Sean Connery', 'Terence Young', 448.8, 7.0, 0.6],\n",
       "       ['From Russia with Love', 1963, 'Sean Connery', 'Terence Young',\n",
       "        543.8, 12.6, 1.6],\n",
       "       ['Goldfinger', 1964, 'Sean Connery', 'Guy Hamilton', 820.4, 18.6,\n",
       "        3.2],\n",
       "       ['Thunderball', 1965, 'Sean Connery', 'Terence Young', 848.1,\n",
       "        41.9, 4.7],\n",
       "       ['Casino Royale', 1967, 'David Niven', 'Ken Hughes', 315.0, 85.0,\n",
       "        nan],\n",
       "       ['You Only Live Twice', 1967, 'Sean Connery', 'Lewis Gilbert',\n",
       "        514.2, 59.9, 4.4],\n",
       "       [\"On Her Majesty's Secret Service\", 1969, 'George Lazenby',\n",
       "        'Peter R. Hunt', 291.5, 37.3, 0.6],\n",
       "       ['Diamonds Are Forever', 1971, 'Sean Connery', 'Guy Hamilton',\n",
       "        442.5, 34.7, 5.8],\n",
       "       ['Live and Let Die', 1973, 'Roger Moore', 'Guy Hamilton', 460.3,\n",
       "        30.8, nan],\n",
       "       ['The Man with the Golden Gun', 1974, 'Roger Moore',\n",
       "        'Guy Hamilton', 334.0, 27.7, nan],\n",
       "       ['The Spy Who Loved Me', 1977, 'Roger Moore', 'Lewis Gilbert',\n",
       "        533.0, 45.1, nan],\n",
       "       ['Moonraker', 1979, 'Roger Moore', 'Lewis Gilbert', 535.0, 91.5,\n",
       "        nan],\n",
       "       ['For Your Eyes Only', 1981, 'Roger Moore', 'John Glen', 449.4,\n",
       "        60.2, nan],\n",
       "       ['Never Say Never Again', 1983, 'Sean Connery', 'Irvin Kershner',\n",
       "        380.0, 86.0, nan],\n",
       "       ['Octopussy', 1983, 'Roger Moore', 'John Glen', 373.8, 53.9, 7.8],\n",
       "       ['A View to a Kill', 1985, 'Roger Moore', 'John Glen', 275.2,\n",
       "        54.5, 9.1],\n",
       "       ['The Living Daylights', 1987, 'Timothy Dalton', 'John Glen',\n",
       "        313.5, 68.8, 5.2],\n",
       "       ['Licence to Kill', 1989, 'Timothy Dalton', 'John Glen', 250.9,\n",
       "        56.7, 7.9],\n",
       "       ['GoldenEye', 1995, 'Pierce Brosnan', 'Martin Campbell', 518.5,\n",
       "        76.9, 5.1],\n",
       "       ['Tomorrow Never Dies', 1997, 'Pierce Brosnan',\n",
       "        'Roger Spottiswoode', 463.2, 133.9, 10.0],\n",
       "       ['The World Is Not Enough', 1999, 'Pierce Brosnan',\n",
       "        'Michael Apted', 439.5, 158.3, 13.5],\n",
       "       ['Die Another Day', 2002, 'Pierce Brosnan', 'Lee Tamahori', 465.4,\n",
       "        154.2, 17.9],\n",
       "       ['Casino Royale', 2006, 'Daniel Craig', 'Martin Campbell', 581.5,\n",
       "        145.3, 3.3],\n",
       "       ['Quantum of Solace', 2008, 'Daniel Craig', 'Marc Forster', 514.2,\n",
       "        181.4, 8.1],\n",
       "       ['Skyfall', 2012, 'Daniel Craig', 'Sam Mendes', 943.5, 170.2,\n",
       "        14.5],\n",
       "       ['Spectre', 2015, 'Daniel Craig', 'Sam Mendes', 726.7, 206.3, nan]],\n",
       "      dtype=object)"
      ]
     },
     "execution_count": 45,
     "metadata": {},
     "output_type": "execute_result"
    }
   ],
   "source": [
    "df.values"
   ]
  },
  {
   "cell_type": "code",
   "execution_count": 46,
   "id": "74f6bd08",
   "metadata": {},
   "outputs": [
    {
     "data": {
      "text/plain": [
       "(26, 7)"
      ]
     },
     "execution_count": 46,
     "metadata": {},
     "output_type": "execute_result"
    }
   ],
   "source": [
    "df.shape"
   ]
  },
  {
   "cell_type": "code",
   "execution_count": 47,
   "id": "6d86531e",
   "metadata": {},
   "outputs": [
    {
     "data": {
      "text/plain": [
       "Film                  object\n",
       "Year                   int64\n",
       "Actor                 object\n",
       "Director              object\n",
       "Box Office           float64\n",
       "Budget               float64\n",
       "Bond Actor Salary    float64\n",
       "dtype: object"
      ]
     },
     "execution_count": 47,
     "metadata": {},
     "output_type": "execute_result"
    }
   ],
   "source": [
    "df.dtypes"
   ]
  },
  {
   "cell_type": "code",
   "execution_count": 48,
   "id": "843e187a",
   "metadata": {},
   "outputs": [
    {
     "data": {
      "text/html": [
       "<div>\n",
       "<style scoped>\n",
       "    .dataframe tbody tr th:only-of-type {\n",
       "        vertical-align: middle;\n",
       "    }\n",
       "\n",
       "    .dataframe tbody tr th {\n",
       "        vertical-align: top;\n",
       "    }\n",
       "\n",
       "    .dataframe thead th {\n",
       "        text-align: right;\n",
       "    }\n",
       "</style>\n",
       "<table border=\"1\" class=\"dataframe\">\n",
       "  <thead>\n",
       "    <tr style=\"text-align: right;\">\n",
       "      <th></th>\n",
       "      <th>Film</th>\n",
       "      <th>Year</th>\n",
       "      <th>Actor</th>\n",
       "      <th>Director</th>\n",
       "      <th>Box Office</th>\n",
       "      <th>Budget</th>\n",
       "      <th>Bond Actor Salary</th>\n",
       "    </tr>\n",
       "  </thead>\n",
       "  <tbody>\n",
       "    <tr>\n",
       "      <th>0</th>\n",
       "      <td>Dr. No</td>\n",
       "      <td>1962</td>\n",
       "      <td>Sean Connery</td>\n",
       "      <td>Terence Young</td>\n",
       "      <td>448.8</td>\n",
       "      <td>7.0</td>\n",
       "      <td>0.6</td>\n",
       "    </tr>\n",
       "  </tbody>\n",
       "</table>\n",
       "</div>"
      ],
      "text/plain": [
       "     Film  Year         Actor       Director  Box Office  Budget  \\\n",
       "0  Dr. No  1962  Sean Connery  Terence Young       448.8     7.0   \n",
       "\n",
       "   Bond Actor Salary  \n",
       "0                0.6  "
      ]
     },
     "execution_count": 48,
     "metadata": {},
     "output_type": "execute_result"
    }
   ],
   "source": [
    "df.head(1)"
   ]
  },
  {
   "cell_type": "code",
   "execution_count": 49,
   "id": "3ebc55c8",
   "metadata": {},
   "outputs": [
    {
     "data": {
      "text/plain": [
       "object     3\n",
       "float64    3\n",
       "int64      1\n",
       "dtype: int64"
      ]
     },
     "execution_count": 49,
     "metadata": {},
     "output_type": "execute_result"
    }
   ],
   "source": [
    "df.dtypes.value_counts()"
   ]
  },
  {
   "cell_type": "code",
   "execution_count": 50,
   "id": "5036ae9a",
   "metadata": {},
   "outputs": [
    {
     "data": {
      "text/plain": [
       "Index(['Film', 'Year', 'Actor', 'Director', 'Box Office', 'Budget',\n",
       "       'Bond Actor Salary'],\n",
       "      dtype='object')"
      ]
     },
     "execution_count": 50,
     "metadata": {},
     "output_type": "execute_result"
    }
   ],
   "source": [
    "df.columns"
   ]
  },
  {
   "cell_type": "code",
   "execution_count": 51,
   "id": "d9d5c40d",
   "metadata": {},
   "outputs": [
    {
     "name": "stdout",
     "output_type": "stream",
     "text": [
      "<class 'pandas.core.frame.DataFrame'>\n",
      "RangeIndex: 26 entries, 0 to 25\n",
      "Data columns (total 7 columns):\n",
      " #   Column             Non-Null Count  Dtype  \n",
      "---  ------             --------------  -----  \n",
      " 0   Film               26 non-null     object \n",
      " 1   Year               26 non-null     int64  \n",
      " 2   Actor              26 non-null     object \n",
      " 3   Director           26 non-null     object \n",
      " 4   Box Office         26 non-null     float64\n",
      " 5   Budget             26 non-null     float64\n",
      " 6   Bond Actor Salary  18 non-null     float64\n",
      "dtypes: float64(3), int64(1), object(3)\n",
      "memory usage: 1.5+ KB\n"
     ]
    }
   ],
   "source": [
    "df.info()"
   ]
  },
  {
   "cell_type": "code",
   "execution_count": 52,
   "id": "f2990fa2",
   "metadata": {},
   "outputs": [
    {
     "data": {
      "text/plain": [
       "0    1962\n",
       "1    1963\n",
       "2    1964\n",
       "3    1965\n",
       "4    1967\n",
       "Name: Year, dtype: int64"
      ]
     },
     "execution_count": 52,
     "metadata": {},
     "output_type": "execute_result"
    }
   ],
   "source": [
    "#select one column\n",
    "#df[\"Year\"]\n",
    "df.Year.head()"
   ]
  },
  {
   "cell_type": "code",
   "execution_count": 53,
   "id": "f940ce0a",
   "metadata": {},
   "outputs": [
    {
     "data": {
      "text/html": [
       "<div>\n",
       "<style scoped>\n",
       "    .dataframe tbody tr th:only-of-type {\n",
       "        vertical-align: middle;\n",
       "    }\n",
       "\n",
       "    .dataframe tbody tr th {\n",
       "        vertical-align: top;\n",
       "    }\n",
       "\n",
       "    .dataframe thead th {\n",
       "        text-align: right;\n",
       "    }\n",
       "</style>\n",
       "<table border=\"1\" class=\"dataframe\">\n",
       "  <thead>\n",
       "    <tr style=\"text-align: right;\">\n",
       "      <th></th>\n",
       "      <th>Year</th>\n",
       "      <th>Actor</th>\n",
       "    </tr>\n",
       "  </thead>\n",
       "  <tbody>\n",
       "    <tr>\n",
       "      <th>0</th>\n",
       "      <td>1962</td>\n",
       "      <td>Sean Connery</td>\n",
       "    </tr>\n",
       "    <tr>\n",
       "      <th>1</th>\n",
       "      <td>1963</td>\n",
       "      <td>Sean Connery</td>\n",
       "    </tr>\n",
       "    <tr>\n",
       "      <th>2</th>\n",
       "      <td>1964</td>\n",
       "      <td>Sean Connery</td>\n",
       "    </tr>\n",
       "    <tr>\n",
       "      <th>3</th>\n",
       "      <td>1965</td>\n",
       "      <td>Sean Connery</td>\n",
       "    </tr>\n",
       "    <tr>\n",
       "      <th>4</th>\n",
       "      <td>1967</td>\n",
       "      <td>David Niven</td>\n",
       "    </tr>\n",
       "  </tbody>\n",
       "</table>\n",
       "</div>"
      ],
      "text/plain": [
       "   Year         Actor\n",
       "0  1962  Sean Connery\n",
       "1  1963  Sean Connery\n",
       "2  1964  Sean Connery\n",
       "3  1965  Sean Connery\n",
       "4  1967   David Niven"
      ]
     },
     "execution_count": 53,
     "metadata": {},
     "output_type": "execute_result"
    }
   ],
   "source": [
    "df[[\"Year\" ,\"Actor\"]].head()"
   ]
  },
  {
   "cell_type": "code",
   "execution_count": 54,
   "id": "d6242091",
   "metadata": {},
   "outputs": [
    {
     "data": {
      "text/html": [
       "<div>\n",
       "<style scoped>\n",
       "    .dataframe tbody tr th:only-of-type {\n",
       "        vertical-align: middle;\n",
       "    }\n",
       "\n",
       "    .dataframe tbody tr th {\n",
       "        vertical-align: top;\n",
       "    }\n",
       "\n",
       "    .dataframe thead th {\n",
       "        text-align: right;\n",
       "    }\n",
       "</style>\n",
       "<table border=\"1\" class=\"dataframe\">\n",
       "  <thead>\n",
       "    <tr style=\"text-align: right;\">\n",
       "      <th></th>\n",
       "      <th>Film</th>\n",
       "      <th>Actor</th>\n",
       "      <th>Year</th>\n",
       "    </tr>\n",
       "  </thead>\n",
       "  <tbody>\n",
       "    <tr>\n",
       "      <th>0</th>\n",
       "      <td>Dr. No</td>\n",
       "      <td>Sean Connery</td>\n",
       "      <td>1962</td>\n",
       "    </tr>\n",
       "    <tr>\n",
       "      <th>1</th>\n",
       "      <td>From Russia with Love</td>\n",
       "      <td>Sean Connery</td>\n",
       "      <td>1963</td>\n",
       "    </tr>\n",
       "    <tr>\n",
       "      <th>2</th>\n",
       "      <td>Goldfinger</td>\n",
       "      <td>Sean Connery</td>\n",
       "      <td>1964</td>\n",
       "    </tr>\n",
       "    <tr>\n",
       "      <th>3</th>\n",
       "      <td>Thunderball</td>\n",
       "      <td>Sean Connery</td>\n",
       "      <td>1965</td>\n",
       "    </tr>\n",
       "    <tr>\n",
       "      <th>4</th>\n",
       "      <td>Casino Royale</td>\n",
       "      <td>David Niven</td>\n",
       "      <td>1967</td>\n",
       "    </tr>\n",
       "  </tbody>\n",
       "</table>\n",
       "</div>"
      ],
      "text/plain": [
       "                    Film         Actor  Year\n",
       "0                 Dr. No  Sean Connery  1962\n",
       "1  From Russia with Love  Sean Connery  1963\n",
       "2             Goldfinger  Sean Connery  1964\n",
       "3            Thunderball  Sean Connery  1965\n",
       "4          Casino Royale   David Niven  1967"
      ]
     },
     "execution_count": 54,
     "metadata": {},
     "output_type": "execute_result"
    }
   ],
   "source": [
    "#reorder you dataframe \n",
    "new_column=[\"Film\",\"Actor\",\"Year\"]\n",
    "df[new_column].head()"
   ]
  },
  {
   "cell_type": "code",
   "execution_count": 55,
   "id": "8812c50d",
   "metadata": {},
   "outputs": [
    {
     "data": {
      "text/plain": [
       "0.6"
      ]
     },
     "execution_count": 55,
     "metadata": {},
     "output_type": "execute_result"
    }
   ],
   "source": [
    "df[\"Bond Actor Salary\"].min()"
   ]
  },
  {
   "cell_type": "code",
   "execution_count": 56,
   "id": "3a5da165",
   "metadata": {},
   "outputs": [
    {
     "data": {
      "text/plain": [
       "17.9"
      ]
     },
     "execution_count": 56,
     "metadata": {},
     "output_type": "execute_result"
    }
   ],
   "source": [
    "df[\"Bond Actor Salary\"].max()"
   ]
  },
  {
   "cell_type": "code",
   "execution_count": 57,
   "id": "81242fae",
   "metadata": {},
   "outputs": [
    {
     "data": {
      "text/plain": [
       "0      1.0\n",
       "1      2.0\n",
       "2      3.0\n",
       "3      5.0\n",
       "4      NaN\n",
       "5      4.0\n",
       "6      1.0\n",
       "7      6.0\n",
       "8      NaN\n",
       "9      NaN\n",
       "10     NaN\n",
       "11     NaN\n",
       "12     NaN\n",
       "13     NaN\n",
       "14     8.0\n",
       "15     9.0\n",
       "16     5.0\n",
       "17     8.0\n",
       "18     5.0\n",
       "19    10.0\n",
       "20    14.0\n",
       "21    18.0\n",
       "22     3.0\n",
       "23     8.0\n",
       "24    14.0\n",
       "25     NaN\n",
       "Name: Bond Actor Salary, dtype: float64"
      ]
     },
     "execution_count": 57,
     "metadata": {},
     "output_type": "execute_result"
    }
   ],
   "source": [
    "df[\"Bond Actor Salary\"].round()"
   ]
  },
  {
   "cell_type": "code",
   "execution_count": 58,
   "id": "6fa17552",
   "metadata": {},
   "outputs": [
    {
     "data": {
      "text/html": [
       "<div>\n",
       "<style scoped>\n",
       "    .dataframe tbody tr th:only-of-type {\n",
       "        vertical-align: middle;\n",
       "    }\n",
       "\n",
       "    .dataframe tbody tr th {\n",
       "        vertical-align: top;\n",
       "    }\n",
       "\n",
       "    .dataframe thead th {\n",
       "        text-align: right;\n",
       "    }\n",
       "</style>\n",
       "<table border=\"1\" class=\"dataframe\">\n",
       "  <thead>\n",
       "    <tr style=\"text-align: right;\">\n",
       "      <th></th>\n",
       "      <th>Film</th>\n",
       "      <th>Year</th>\n",
       "      <th>Actor</th>\n",
       "      <th>hello</th>\n",
       "      <th>Director</th>\n",
       "      <th>Box Office</th>\n",
       "      <th>Budget</th>\n",
       "      <th>Bond Actor Salary</th>\n",
       "    </tr>\n",
       "  </thead>\n",
       "  <tbody>\n",
       "    <tr>\n",
       "      <th>0</th>\n",
       "      <td>Dr. No</td>\n",
       "      <td>1962</td>\n",
       "      <td>Sean Connery</td>\n",
       "      <td>good</td>\n",
       "      <td>Terence Young</td>\n",
       "      <td>448.8</td>\n",
       "      <td>7.0</td>\n",
       "      <td>0.6</td>\n",
       "    </tr>\n",
       "    <tr>\n",
       "      <th>1</th>\n",
       "      <td>From Russia with Love</td>\n",
       "      <td>1963</td>\n",
       "      <td>Sean Connery</td>\n",
       "      <td>good</td>\n",
       "      <td>Terence Young</td>\n",
       "      <td>543.8</td>\n",
       "      <td>12.6</td>\n",
       "      <td>1.6</td>\n",
       "    </tr>\n",
       "    <tr>\n",
       "      <th>2</th>\n",
       "      <td>Goldfinger</td>\n",
       "      <td>1964</td>\n",
       "      <td>Sean Connery</td>\n",
       "      <td>good</td>\n",
       "      <td>Guy Hamilton</td>\n",
       "      <td>820.4</td>\n",
       "      <td>18.6</td>\n",
       "      <td>3.2</td>\n",
       "    </tr>\n",
       "    <tr>\n",
       "      <th>3</th>\n",
       "      <td>Thunderball</td>\n",
       "      <td>1965</td>\n",
       "      <td>Sean Connery</td>\n",
       "      <td>good</td>\n",
       "      <td>Terence Young</td>\n",
       "      <td>848.1</td>\n",
       "      <td>41.9</td>\n",
       "      <td>4.7</td>\n",
       "    </tr>\n",
       "    <tr>\n",
       "      <th>4</th>\n",
       "      <td>Casino Royale</td>\n",
       "      <td>1967</td>\n",
       "      <td>David Niven</td>\n",
       "      <td>good</td>\n",
       "      <td>Ken Hughes</td>\n",
       "      <td>315.0</td>\n",
       "      <td>85.0</td>\n",
       "      <td>NaN</td>\n",
       "    </tr>\n",
       "  </tbody>\n",
       "</table>\n",
       "</div>"
      ],
      "text/plain": [
       "                    Film  Year         Actor hello       Director  Box Office  \\\n",
       "0                 Dr. No  1962  Sean Connery  good  Terence Young       448.8   \n",
       "1  From Russia with Love  1963  Sean Connery  good  Terence Young       543.8   \n",
       "2             Goldfinger  1964  Sean Connery  good   Guy Hamilton       820.4   \n",
       "3            Thunderball  1965  Sean Connery  good  Terence Young       848.1   \n",
       "4          Casino Royale  1967   David Niven  good     Ken Hughes       315.0   \n",
       "\n",
       "   Budget  Bond Actor Salary  \n",
       "0     7.0                0.6  \n",
       "1    12.6                1.6  \n",
       "2    18.6                3.2  \n",
       "3    41.9                4.7  \n",
       "4    85.0                NaN  "
      ]
     },
     "execution_count": 58,
     "metadata": {},
     "output_type": "execute_result"
    }
   ],
   "source": [
    "# adding column in middle of dataframe\n",
    "df.insert(3 , column=\"hello\" , value=\"good\") #index=3 , name , value\n",
    "df.head()"
   ]
  },
  {
   "cell_type": "code",
   "execution_count": 59,
   "id": "a3dfa592",
   "metadata": {},
   "outputs": [
    {
     "data": {
      "text/plain": [
       "0       9.0\n",
       "1      14.6\n",
       "2      20.6\n",
       "3      43.9\n",
       "4      87.0\n",
       "5      61.9\n",
       "6      39.3\n",
       "7      36.7\n",
       "8      32.8\n",
       "9      29.7\n",
       "10     47.1\n",
       "11     93.5\n",
       "12     62.2\n",
       "13     88.0\n",
       "14     55.9\n",
       "15     56.5\n",
       "16     70.8\n",
       "17     58.7\n",
       "18     78.9\n",
       "19    135.9\n",
       "20    160.3\n",
       "21    156.2\n",
       "22    147.3\n",
       "23    183.4\n",
       "24    172.2\n",
       "25    208.3\n",
       "Name: Budget, dtype: float64"
      ]
     },
     "execution_count": 59,
     "metadata": {},
     "output_type": "execute_result"
    }
   ],
   "source": [
    "#add() we add all amounts of column \n",
    "df[\"Budget\"].add(2)\n",
    "#df[\"Budget\"]+2"
   ]
  },
  {
   "cell_type": "code",
   "execution_count": 60,
   "id": "65f065a2",
   "metadata": {},
   "outputs": [
    {
     "data": {
      "text/plain": [
       "0       5.0\n",
       "1      10.6\n",
       "2      16.6\n",
       "3      39.9\n",
       "4      83.0\n",
       "5      57.9\n",
       "6      35.3\n",
       "7      32.7\n",
       "8      28.8\n",
       "9      25.7\n",
       "10     43.1\n",
       "11     89.5\n",
       "12     58.2\n",
       "13     84.0\n",
       "14     51.9\n",
       "15     52.5\n",
       "16     66.8\n",
       "17     54.7\n",
       "18     74.9\n",
       "19    131.9\n",
       "20    156.3\n",
       "21    152.2\n",
       "22    143.3\n",
       "23    179.4\n",
       "24    168.2\n",
       "25    204.3\n",
       "Name: Budget, dtype: float64"
      ]
     },
     "execution_count": 60,
     "metadata": {},
     "output_type": "execute_result"
    }
   ],
   "source": [
    "#we decrease unit each amounts of column\n",
    "df[\"Budget\"].sub(2)\n",
    "#df[\"Budget\"]-2"
   ]
  },
  {
   "cell_type": "code",
   "execution_count": 61,
   "id": "7ac9d8e7",
   "metadata": {},
   "outputs": [
    {
     "data": {
      "text/plain": [
       "0      14.0\n",
       "1      25.2\n",
       "2      37.2\n",
       "3      83.8\n",
       "4     170.0\n",
       "5     119.8\n",
       "6      74.6\n",
       "7      69.4\n",
       "8      61.6\n",
       "9      55.4\n",
       "10     90.2\n",
       "11    183.0\n",
       "12    120.4\n",
       "13    172.0\n",
       "14    107.8\n",
       "15    109.0\n",
       "16    137.6\n",
       "17    113.4\n",
       "18    153.8\n",
       "19    267.8\n",
       "20    316.6\n",
       "21    308.4\n",
       "22    290.6\n",
       "23    362.8\n",
       "24    340.4\n",
       "25    412.6\n",
       "Name: Budget, dtype: float64"
      ]
     },
     "execution_count": 61,
     "metadata": {},
     "output_type": "execute_result"
    }
   ],
   "source": [
    "# multiply all amounts of column\n",
    "df[\"Budget\"].mul(2)\n",
    "#df[\"Budget\"]*2"
   ]
  },
  {
   "cell_type": "code",
   "execution_count": 62,
   "id": "f68933ef",
   "metadata": {},
   "outputs": [
    {
     "data": {
      "text/plain": [
       "0       3.50\n",
       "1       6.30\n",
       "2       9.30\n",
       "3      20.95\n",
       "4      42.50\n",
       "5      29.95\n",
       "6      18.65\n",
       "7      17.35\n",
       "8      15.40\n",
       "9      13.85\n",
       "10     22.55\n",
       "11     45.75\n",
       "12     30.10\n",
       "13     43.00\n",
       "14     26.95\n",
       "15     27.25\n",
       "16     34.40\n",
       "17     28.35\n",
       "18     38.45\n",
       "19     66.95\n",
       "20     79.15\n",
       "21     77.10\n",
       "22     72.65\n",
       "23     90.70\n",
       "24     85.10\n",
       "25    103.15\n",
       "Name: Budget, dtype: float64"
      ]
     },
     "execution_count": 62,
     "metadata": {},
     "output_type": "execute_result"
    }
   ],
   "source": [
    "#diviging each value of column\n",
    "df[\"Budget\"].div(2)\n",
    "#df[\"Budget\"]/2"
   ]
  },
  {
   "cell_type": "markdown",
   "id": "cee78baf",
   "metadata": {},
   "source": [
    "# dealing with null values"
   ]
  },
  {
   "cell_type": "code",
   "execution_count": 63,
   "id": "8932a42e",
   "metadata": {},
   "outputs": [
    {
     "data": {
      "text/html": [
       "<div>\n",
       "<style scoped>\n",
       "    .dataframe tbody tr th:only-of-type {\n",
       "        vertical-align: middle;\n",
       "    }\n",
       "\n",
       "    .dataframe tbody tr th {\n",
       "        vertical-align: top;\n",
       "    }\n",
       "\n",
       "    .dataframe thead th {\n",
       "        text-align: right;\n",
       "    }\n",
       "</style>\n",
       "<table border=\"1\" class=\"dataframe\">\n",
       "  <thead>\n",
       "    <tr style=\"text-align: right;\">\n",
       "      <th></th>\n",
       "      <th>Film</th>\n",
       "      <th>Year</th>\n",
       "      <th>Actor</th>\n",
       "      <th>hello</th>\n",
       "      <th>Director</th>\n",
       "      <th>Box Office</th>\n",
       "      <th>Budget</th>\n",
       "      <th>Bond Actor Salary</th>\n",
       "    </tr>\n",
       "  </thead>\n",
       "  <tbody>\n",
       "    <tr>\n",
       "      <th>0</th>\n",
       "      <td>Dr. No</td>\n",
       "      <td>1962</td>\n",
       "      <td>Sean Connery</td>\n",
       "      <td>good</td>\n",
       "      <td>Terence Young</td>\n",
       "      <td>448.8</td>\n",
       "      <td>7.0</td>\n",
       "      <td>0.6</td>\n",
       "    </tr>\n",
       "    <tr>\n",
       "      <th>1</th>\n",
       "      <td>From Russia with Love</td>\n",
       "      <td>1963</td>\n",
       "      <td>Sean Connery</td>\n",
       "      <td>good</td>\n",
       "      <td>Terence Young</td>\n",
       "      <td>543.8</td>\n",
       "      <td>12.6</td>\n",
       "      <td>1.6</td>\n",
       "    </tr>\n",
       "    <tr>\n",
       "      <th>2</th>\n",
       "      <td>Goldfinger</td>\n",
       "      <td>1964</td>\n",
       "      <td>Sean Connery</td>\n",
       "      <td>good</td>\n",
       "      <td>Guy Hamilton</td>\n",
       "      <td>820.4</td>\n",
       "      <td>18.6</td>\n",
       "      <td>3.2</td>\n",
       "    </tr>\n",
       "    <tr>\n",
       "      <th>3</th>\n",
       "      <td>Thunderball</td>\n",
       "      <td>1965</td>\n",
       "      <td>Sean Connery</td>\n",
       "      <td>good</td>\n",
       "      <td>Terence Young</td>\n",
       "      <td>848.1</td>\n",
       "      <td>41.9</td>\n",
       "      <td>4.7</td>\n",
       "    </tr>\n",
       "    <tr>\n",
       "      <th>5</th>\n",
       "      <td>You Only Live Twice</td>\n",
       "      <td>1967</td>\n",
       "      <td>Sean Connery</td>\n",
       "      <td>good</td>\n",
       "      <td>Lewis Gilbert</td>\n",
       "      <td>514.2</td>\n",
       "      <td>59.9</td>\n",
       "      <td>4.4</td>\n",
       "    </tr>\n",
       "    <tr>\n",
       "      <th>6</th>\n",
       "      <td>On Her Majesty's Secret Service</td>\n",
       "      <td>1969</td>\n",
       "      <td>George Lazenby</td>\n",
       "      <td>good</td>\n",
       "      <td>Peter R. Hunt</td>\n",
       "      <td>291.5</td>\n",
       "      <td>37.3</td>\n",
       "      <td>0.6</td>\n",
       "    </tr>\n",
       "    <tr>\n",
       "      <th>7</th>\n",
       "      <td>Diamonds Are Forever</td>\n",
       "      <td>1971</td>\n",
       "      <td>Sean Connery</td>\n",
       "      <td>good</td>\n",
       "      <td>Guy Hamilton</td>\n",
       "      <td>442.5</td>\n",
       "      <td>34.7</td>\n",
       "      <td>5.8</td>\n",
       "    </tr>\n",
       "    <tr>\n",
       "      <th>14</th>\n",
       "      <td>Octopussy</td>\n",
       "      <td>1983</td>\n",
       "      <td>Roger Moore</td>\n",
       "      <td>good</td>\n",
       "      <td>John Glen</td>\n",
       "      <td>373.8</td>\n",
       "      <td>53.9</td>\n",
       "      <td>7.8</td>\n",
       "    </tr>\n",
       "    <tr>\n",
       "      <th>15</th>\n",
       "      <td>A View to a Kill</td>\n",
       "      <td>1985</td>\n",
       "      <td>Roger Moore</td>\n",
       "      <td>good</td>\n",
       "      <td>John Glen</td>\n",
       "      <td>275.2</td>\n",
       "      <td>54.5</td>\n",
       "      <td>9.1</td>\n",
       "    </tr>\n",
       "    <tr>\n",
       "      <th>16</th>\n",
       "      <td>The Living Daylights</td>\n",
       "      <td>1987</td>\n",
       "      <td>Timothy Dalton</td>\n",
       "      <td>good</td>\n",
       "      <td>John Glen</td>\n",
       "      <td>313.5</td>\n",
       "      <td>68.8</td>\n",
       "      <td>5.2</td>\n",
       "    </tr>\n",
       "    <tr>\n",
       "      <th>17</th>\n",
       "      <td>Licence to Kill</td>\n",
       "      <td>1989</td>\n",
       "      <td>Timothy Dalton</td>\n",
       "      <td>good</td>\n",
       "      <td>John Glen</td>\n",
       "      <td>250.9</td>\n",
       "      <td>56.7</td>\n",
       "      <td>7.9</td>\n",
       "    </tr>\n",
       "    <tr>\n",
       "      <th>18</th>\n",
       "      <td>GoldenEye</td>\n",
       "      <td>1995</td>\n",
       "      <td>Pierce Brosnan</td>\n",
       "      <td>good</td>\n",
       "      <td>Martin Campbell</td>\n",
       "      <td>518.5</td>\n",
       "      <td>76.9</td>\n",
       "      <td>5.1</td>\n",
       "    </tr>\n",
       "    <tr>\n",
       "      <th>19</th>\n",
       "      <td>Tomorrow Never Dies</td>\n",
       "      <td>1997</td>\n",
       "      <td>Pierce Brosnan</td>\n",
       "      <td>good</td>\n",
       "      <td>Roger Spottiswoode</td>\n",
       "      <td>463.2</td>\n",
       "      <td>133.9</td>\n",
       "      <td>10.0</td>\n",
       "    </tr>\n",
       "    <tr>\n",
       "      <th>20</th>\n",
       "      <td>The World Is Not Enough</td>\n",
       "      <td>1999</td>\n",
       "      <td>Pierce Brosnan</td>\n",
       "      <td>good</td>\n",
       "      <td>Michael Apted</td>\n",
       "      <td>439.5</td>\n",
       "      <td>158.3</td>\n",
       "      <td>13.5</td>\n",
       "    </tr>\n",
       "    <tr>\n",
       "      <th>21</th>\n",
       "      <td>Die Another Day</td>\n",
       "      <td>2002</td>\n",
       "      <td>Pierce Brosnan</td>\n",
       "      <td>good</td>\n",
       "      <td>Lee Tamahori</td>\n",
       "      <td>465.4</td>\n",
       "      <td>154.2</td>\n",
       "      <td>17.9</td>\n",
       "    </tr>\n",
       "    <tr>\n",
       "      <th>22</th>\n",
       "      <td>Casino Royale</td>\n",
       "      <td>2006</td>\n",
       "      <td>Daniel Craig</td>\n",
       "      <td>good</td>\n",
       "      <td>Martin Campbell</td>\n",
       "      <td>581.5</td>\n",
       "      <td>145.3</td>\n",
       "      <td>3.3</td>\n",
       "    </tr>\n",
       "    <tr>\n",
       "      <th>23</th>\n",
       "      <td>Quantum of Solace</td>\n",
       "      <td>2008</td>\n",
       "      <td>Daniel Craig</td>\n",
       "      <td>good</td>\n",
       "      <td>Marc Forster</td>\n",
       "      <td>514.2</td>\n",
       "      <td>181.4</td>\n",
       "      <td>8.1</td>\n",
       "    </tr>\n",
       "    <tr>\n",
       "      <th>24</th>\n",
       "      <td>Skyfall</td>\n",
       "      <td>2012</td>\n",
       "      <td>Daniel Craig</td>\n",
       "      <td>good</td>\n",
       "      <td>Sam Mendes</td>\n",
       "      <td>943.5</td>\n",
       "      <td>170.2</td>\n",
       "      <td>14.5</td>\n",
       "    </tr>\n",
       "  </tbody>\n",
       "</table>\n",
       "</div>"
      ],
      "text/plain": [
       "                               Film  Year           Actor hello  \\\n",
       "0                            Dr. No  1962    Sean Connery  good   \n",
       "1             From Russia with Love  1963    Sean Connery  good   \n",
       "2                        Goldfinger  1964    Sean Connery  good   \n",
       "3                       Thunderball  1965    Sean Connery  good   \n",
       "5               You Only Live Twice  1967    Sean Connery  good   \n",
       "6   On Her Majesty's Secret Service  1969  George Lazenby  good   \n",
       "7              Diamonds Are Forever  1971    Sean Connery  good   \n",
       "14                        Octopussy  1983     Roger Moore  good   \n",
       "15                 A View to a Kill  1985     Roger Moore  good   \n",
       "16             The Living Daylights  1987  Timothy Dalton  good   \n",
       "17                  Licence to Kill  1989  Timothy Dalton  good   \n",
       "18                        GoldenEye  1995  Pierce Brosnan  good   \n",
       "19              Tomorrow Never Dies  1997  Pierce Brosnan  good   \n",
       "20          The World Is Not Enough  1999  Pierce Brosnan  good   \n",
       "21                  Die Another Day  2002  Pierce Brosnan  good   \n",
       "22                    Casino Royale  2006    Daniel Craig  good   \n",
       "23                Quantum of Solace  2008    Daniel Craig  good   \n",
       "24                          Skyfall  2012    Daniel Craig  good   \n",
       "\n",
       "              Director  Box Office  Budget  Bond Actor Salary  \n",
       "0        Terence Young       448.8     7.0                0.6  \n",
       "1        Terence Young       543.8    12.6                1.6  \n",
       "2         Guy Hamilton       820.4    18.6                3.2  \n",
       "3        Terence Young       848.1    41.9                4.7  \n",
       "5        Lewis Gilbert       514.2    59.9                4.4  \n",
       "6        Peter R. Hunt       291.5    37.3                0.6  \n",
       "7         Guy Hamilton       442.5    34.7                5.8  \n",
       "14           John Glen       373.8    53.9                7.8  \n",
       "15           John Glen       275.2    54.5                9.1  \n",
       "16           John Glen       313.5    68.8                5.2  \n",
       "17           John Glen       250.9    56.7                7.9  \n",
       "18     Martin Campbell       518.5    76.9                5.1  \n",
       "19  Roger Spottiswoode       463.2   133.9               10.0  \n",
       "20       Michael Apted       439.5   158.3               13.5  \n",
       "21        Lee Tamahori       465.4   154.2               17.9  \n",
       "22     Martin Campbell       581.5   145.3                3.3  \n",
       "23        Marc Forster       514.2   181.4                8.1  \n",
       "24          Sam Mendes       943.5   170.2               14.5  "
      ]
     },
     "execution_count": 63,
     "metadata": {},
     "output_type": "execute_result"
    }
   ],
   "source": [
    "#droping the rows which had null values\n",
    "df.dropna() #df.dropna(how=\"all\") if all of values in row be null and inplace have to be True (defailt axis=0)\n",
    "#df.dropna(how=\"any\" , subset=[\"Year\"]) deleting rows wich null values are in year columns"
   ]
  },
  {
   "cell_type": "code",
   "execution_count": 64,
   "id": "99930ec1",
   "metadata": {},
   "outputs": [],
   "source": [
    "#filling the null values\n",
    "#df.fillna(value=) if you see null  , fill it 0"
   ]
  },
  {
   "cell_type": "code",
   "execution_count": 65,
   "id": "1cca9208",
   "metadata": {},
   "outputs": [],
   "source": [
    "#we onlu fill the null value of director  column with 0\n",
    "df[\"Director\"].fillna(0 , inplace=True)"
   ]
  },
  {
   "cell_type": "code",
   "execution_count": 66,
   "id": "ad099e7f",
   "metadata": {},
   "outputs": [
    {
     "data": {
      "text/plain": [
       "8"
      ]
     },
     "execution_count": 66,
     "metadata": {},
     "output_type": "execute_result"
    }
   ],
   "source": [
    "df[\"Bond Actor Salary\"].isnull().sum()"
   ]
  },
  {
   "cell_type": "code",
   "execution_count": 67,
   "id": "b5ffdf3f",
   "metadata": {},
   "outputs": [
    {
     "data": {
      "text/plain": [
       "6.85"
      ]
     },
     "execution_count": 67,
     "metadata": {},
     "output_type": "execute_result"
    }
   ],
   "source": [
    "df[\"Bond Actor Salary\"].mean()"
   ]
  },
  {
   "cell_type": "code",
   "execution_count": 72,
   "id": "a94c9cd3",
   "metadata": {},
   "outputs": [],
   "source": [
    "df[\"Bond Actor Salary\"].fillna(6.8 , inplace=True)"
   ]
  },
  {
   "cell_type": "code",
   "execution_count": 73,
   "id": "262fcbb0",
   "metadata": {},
   "outputs": [],
   "source": [
    "#changing the types of columns\n",
    "df[\"Bond Actor Salary\"]=df[\"Bond Actor Salary\"].astype(\"int\")"
   ]
  },
  {
   "cell_type": "code",
   "execution_count": 75,
   "id": "64eefc71",
   "metadata": {},
   "outputs": [
    {
     "data": {
      "text/plain": [
       "dtype('int32')"
      ]
     },
     "execution_count": 75,
     "metadata": {},
     "output_type": "execute_result"
    }
   ],
   "source": [
    "df[\"Bond Actor Salary\"].dtype"
   ]
  },
  {
   "cell_type": "code",
   "execution_count": 76,
   "id": "5dd2ba37",
   "metadata": {},
   "outputs": [
    {
     "data": {
      "text/plain": [
       "dtype('O')"
      ]
     },
     "execution_count": 76,
     "metadata": {},
     "output_type": "execute_result"
    }
   ],
   "source": [
    "df[\"Actor\"].dtype"
   ]
  },
  {
   "cell_type": "code",
   "execution_count": 79,
   "id": "e44fcd03",
   "metadata": {},
   "outputs": [
    {
     "data": {
      "text/plain": [
       "array(['Sean Connery', 'David Niven', 'George Lazenby', 'Roger Moore',\n",
       "       'Timothy Dalton', 'Pierce Brosnan', 'Daniel Craig'], dtype=object)"
      ]
     },
     "execution_count": 79,
     "metadata": {},
     "output_type": "execute_result"
    }
   ],
   "source": [
    "df[\"Actor\"].unique()"
   ]
  },
  {
   "cell_type": "code",
   "execution_count": 83,
   "id": "f605fc3b",
   "metadata": {},
   "outputs": [],
   "source": [
    "df[\"Actor\"]=df[\"Actor\"].astype(\"category\" )"
   ]
  },
  {
   "cell_type": "code",
   "execution_count": 84,
   "id": "cbc6d75f",
   "metadata": {},
   "outputs": [
    {
     "data": {
      "text/plain": [
       "CategoricalDtype(categories=['Daniel Craig', 'David Niven', 'George Lazenby',\n",
       "                  'Pierce Brosnan', 'Roger Moore', 'Sean Connery',\n",
       "                  'Timothy Dalton'],\n",
       ", ordered=False)"
      ]
     },
     "execution_count": 84,
     "metadata": {},
     "output_type": "execute_result"
    }
   ],
   "source": [
    "df[\"Actor\"].dtype"
   ]
  },
  {
   "cell_type": "code",
   "execution_count": 85,
   "id": "a7854ac9",
   "metadata": {},
   "outputs": [
    {
     "data": {
      "text/html": [
       "<div>\n",
       "<style scoped>\n",
       "    .dataframe tbody tr th:only-of-type {\n",
       "        vertical-align: middle;\n",
       "    }\n",
       "\n",
       "    .dataframe tbody tr th {\n",
       "        vertical-align: top;\n",
       "    }\n",
       "\n",
       "    .dataframe thead th {\n",
       "        text-align: right;\n",
       "    }\n",
       "</style>\n",
       "<table border=\"1\" class=\"dataframe\">\n",
       "  <thead>\n",
       "    <tr style=\"text-align: right;\">\n",
       "      <th></th>\n",
       "      <th>Film</th>\n",
       "      <th>Year</th>\n",
       "      <th>Actor</th>\n",
       "      <th>hello</th>\n",
       "      <th>Director</th>\n",
       "      <th>Box Office</th>\n",
       "      <th>Budget</th>\n",
       "      <th>Bond Actor Salary</th>\n",
       "    </tr>\n",
       "  </thead>\n",
       "  <tbody>\n",
       "    <tr>\n",
       "      <th>0</th>\n",
       "      <td>Dr. No</td>\n",
       "      <td>1962</td>\n",
       "      <td>Sean Connery</td>\n",
       "      <td>good</td>\n",
       "      <td>Terence Young</td>\n",
       "      <td>448.8</td>\n",
       "      <td>7.0</td>\n",
       "      <td>0</td>\n",
       "    </tr>\n",
       "    <tr>\n",
       "      <th>1</th>\n",
       "      <td>From Russia with Love</td>\n",
       "      <td>1963</td>\n",
       "      <td>Sean Connery</td>\n",
       "      <td>good</td>\n",
       "      <td>Terence Young</td>\n",
       "      <td>543.8</td>\n",
       "      <td>12.6</td>\n",
       "      <td>1</td>\n",
       "    </tr>\n",
       "    <tr>\n",
       "      <th>2</th>\n",
       "      <td>Goldfinger</td>\n",
       "      <td>1964</td>\n",
       "      <td>Sean Connery</td>\n",
       "      <td>good</td>\n",
       "      <td>Guy Hamilton</td>\n",
       "      <td>820.4</td>\n",
       "      <td>18.6</td>\n",
       "      <td>3</td>\n",
       "    </tr>\n",
       "    <tr>\n",
       "      <th>3</th>\n",
       "      <td>Thunderball</td>\n",
       "      <td>1965</td>\n",
       "      <td>Sean Connery</td>\n",
       "      <td>good</td>\n",
       "      <td>Terence Young</td>\n",
       "      <td>848.1</td>\n",
       "      <td>41.9</td>\n",
       "      <td>4</td>\n",
       "    </tr>\n",
       "    <tr>\n",
       "      <th>4</th>\n",
       "      <td>Casino Royale</td>\n",
       "      <td>1967</td>\n",
       "      <td>David Niven</td>\n",
       "      <td>good</td>\n",
       "      <td>Ken Hughes</td>\n",
       "      <td>315.0</td>\n",
       "      <td>85.0</td>\n",
       "      <td>6</td>\n",
       "    </tr>\n",
       "  </tbody>\n",
       "</table>\n",
       "</div>"
      ],
      "text/plain": [
       "                    Film  Year         Actor hello       Director  Box Office  \\\n",
       "0                 Dr. No  1962  Sean Connery  good  Terence Young       448.8   \n",
       "1  From Russia with Love  1963  Sean Connery  good  Terence Young       543.8   \n",
       "2             Goldfinger  1964  Sean Connery  good   Guy Hamilton       820.4   \n",
       "3            Thunderball  1965  Sean Connery  good  Terence Young       848.1   \n",
       "4          Casino Royale  1967   David Niven  good     Ken Hughes       315.0   \n",
       "\n",
       "   Budget  Bond Actor Salary  \n",
       "0     7.0                  0  \n",
       "1    12.6                  1  \n",
       "2    18.6                  3  \n",
       "3    41.9                  4  \n",
       "4    85.0                  6  "
      ]
     },
     "execution_count": 85,
     "metadata": {},
     "output_type": "execute_result"
    }
   ],
   "source": [
    "df.head()"
   ]
  },
  {
   "cell_type": "markdown",
   "id": "f2c0a34b",
   "metadata": {},
   "source": [
    "# sort values()"
   ]
  },
  {
   "cell_type": "code",
   "execution_count": 92,
   "id": "20da4b55",
   "metadata": {},
   "outputs": [
    {
     "data": {
      "text/html": [
       "<div>\n",
       "<style scoped>\n",
       "    .dataframe tbody tr th:only-of-type {\n",
       "        vertical-align: middle;\n",
       "    }\n",
       "\n",
       "    .dataframe tbody tr th {\n",
       "        vertical-align: top;\n",
       "    }\n",
       "\n",
       "    .dataframe thead th {\n",
       "        text-align: right;\n",
       "    }\n",
       "</style>\n",
       "<table border=\"1\" class=\"dataframe\">\n",
       "  <thead>\n",
       "    <tr style=\"text-align: right;\">\n",
       "      <th></th>\n",
       "      <th>Film</th>\n",
       "      <th>Year</th>\n",
       "      <th>Actor</th>\n",
       "      <th>hello</th>\n",
       "      <th>Director</th>\n",
       "      <th>Box Office</th>\n",
       "      <th>Budget</th>\n",
       "      <th>Bond Actor Salary</th>\n",
       "    </tr>\n",
       "  </thead>\n",
       "  <tbody>\n",
       "    <tr>\n",
       "      <th>17</th>\n",
       "      <td>Licence to Kill</td>\n",
       "      <td>1989</td>\n",
       "      <td>Timothy Dalton</td>\n",
       "      <td>good</td>\n",
       "      <td>John Glen</td>\n",
       "      <td>250.9</td>\n",
       "      <td>56.7</td>\n",
       "      <td>7</td>\n",
       "    </tr>\n",
       "    <tr>\n",
       "      <th>15</th>\n",
       "      <td>A View to a Kill</td>\n",
       "      <td>1985</td>\n",
       "      <td>Roger Moore</td>\n",
       "      <td>good</td>\n",
       "      <td>John Glen</td>\n",
       "      <td>275.2</td>\n",
       "      <td>54.5</td>\n",
       "      <td>9</td>\n",
       "    </tr>\n",
       "    <tr>\n",
       "      <th>6</th>\n",
       "      <td>On Her Majesty's Secret Service</td>\n",
       "      <td>1969</td>\n",
       "      <td>George Lazenby</td>\n",
       "      <td>good</td>\n",
       "      <td>Peter R. Hunt</td>\n",
       "      <td>291.5</td>\n",
       "      <td>37.3</td>\n",
       "      <td>0</td>\n",
       "    </tr>\n",
       "    <tr>\n",
       "      <th>16</th>\n",
       "      <td>The Living Daylights</td>\n",
       "      <td>1987</td>\n",
       "      <td>Timothy Dalton</td>\n",
       "      <td>good</td>\n",
       "      <td>John Glen</td>\n",
       "      <td>313.5</td>\n",
       "      <td>68.8</td>\n",
       "      <td>5</td>\n",
       "    </tr>\n",
       "    <tr>\n",
       "      <th>4</th>\n",
       "      <td>Casino Royale</td>\n",
       "      <td>1967</td>\n",
       "      <td>David Niven</td>\n",
       "      <td>good</td>\n",
       "      <td>Ken Hughes</td>\n",
       "      <td>315.0</td>\n",
       "      <td>85.0</td>\n",
       "      <td>6</td>\n",
       "    </tr>\n",
       "  </tbody>\n",
       "</table>\n",
       "</div>"
      ],
      "text/plain": [
       "                               Film  Year           Actor hello  \\\n",
       "17                  Licence to Kill  1989  Timothy Dalton  good   \n",
       "15                 A View to a Kill  1985     Roger Moore  good   \n",
       "6   On Her Majesty's Secret Service  1969  George Lazenby  good   \n",
       "16             The Living Daylights  1987  Timothy Dalton  good   \n",
       "4                     Casino Royale  1967     David Niven  good   \n",
       "\n",
       "         Director  Box Office  Budget  Bond Actor Salary  \n",
       "17      John Glen       250.9    56.7                  7  \n",
       "15      John Glen       275.2    54.5                  9  \n",
       "6   Peter R. Hunt       291.5    37.3                  0  \n",
       "16      John Glen       313.5    68.8                  5  \n",
       "4      Ken Hughes       315.0    85.0                  6  "
      ]
     },
     "execution_count": 92,
     "metadata": {},
     "output_type": "execute_result"
    }
   ],
   "source": [
    "df.sort_values(\"Box Office\" , ascending=True , inplace=True , na_position= True)# na_position :the null value position\n",
    "df.head()"
   ]
  },
  {
   "cell_type": "code",
   "execution_count": 96,
   "id": "47803c7f",
   "metadata": {},
   "outputs": [
    {
     "data": {
      "text/html": [
       "<div>\n",
       "<style scoped>\n",
       "    .dataframe tbody tr th:only-of-type {\n",
       "        vertical-align: middle;\n",
       "    }\n",
       "\n",
       "    .dataframe tbody tr th {\n",
       "        vertical-align: top;\n",
       "    }\n",
       "\n",
       "    .dataframe thead th {\n",
       "        text-align: right;\n",
       "    }\n",
       "</style>\n",
       "<table border=\"1\" class=\"dataframe\">\n",
       "  <thead>\n",
       "    <tr style=\"text-align: right;\">\n",
       "      <th></th>\n",
       "      <th>Film</th>\n",
       "      <th>Year</th>\n",
       "      <th>Actor</th>\n",
       "      <th>hello</th>\n",
       "      <th>Director</th>\n",
       "      <th>Box Office</th>\n",
       "      <th>Budget</th>\n",
       "      <th>Bond Actor Salary</th>\n",
       "    </tr>\n",
       "  </thead>\n",
       "  <tbody>\n",
       "    <tr>\n",
       "      <th>9</th>\n",
       "      <td>The Man with the Golden Gun</td>\n",
       "      <td>1974</td>\n",
       "      <td>Roger Moore</td>\n",
       "      <td>good</td>\n",
       "      <td>Guy Hamilton</td>\n",
       "      <td>334.0</td>\n",
       "      <td>27.7</td>\n",
       "      <td>6</td>\n",
       "    </tr>\n",
       "    <tr>\n",
       "      <th>7</th>\n",
       "      <td>Diamonds Are Forever</td>\n",
       "      <td>1971</td>\n",
       "      <td>Sean Connery</td>\n",
       "      <td>good</td>\n",
       "      <td>Guy Hamilton</td>\n",
       "      <td>442.5</td>\n",
       "      <td>34.7</td>\n",
       "      <td>5</td>\n",
       "    </tr>\n",
       "    <tr>\n",
       "      <th>8</th>\n",
       "      <td>Live and Let Die</td>\n",
       "      <td>1973</td>\n",
       "      <td>Roger Moore</td>\n",
       "      <td>good</td>\n",
       "      <td>Guy Hamilton</td>\n",
       "      <td>460.3</td>\n",
       "      <td>30.8</td>\n",
       "      <td>6</td>\n",
       "    </tr>\n",
       "    <tr>\n",
       "      <th>2</th>\n",
       "      <td>Goldfinger</td>\n",
       "      <td>1964</td>\n",
       "      <td>Sean Connery</td>\n",
       "      <td>good</td>\n",
       "      <td>Guy Hamilton</td>\n",
       "      <td>820.4</td>\n",
       "      <td>18.6</td>\n",
       "      <td>3</td>\n",
       "    </tr>\n",
       "    <tr>\n",
       "      <th>13</th>\n",
       "      <td>Never Say Never Again</td>\n",
       "      <td>1983</td>\n",
       "      <td>Sean Connery</td>\n",
       "      <td>good</td>\n",
       "      <td>Irvin Kershner</td>\n",
       "      <td>380.0</td>\n",
       "      <td>86.0</td>\n",
       "      <td>6</td>\n",
       "    </tr>\n",
       "    <tr>\n",
       "      <th>17</th>\n",
       "      <td>Licence to Kill</td>\n",
       "      <td>1989</td>\n",
       "      <td>Timothy Dalton</td>\n",
       "      <td>good</td>\n",
       "      <td>John Glen</td>\n",
       "      <td>250.9</td>\n",
       "      <td>56.7</td>\n",
       "      <td>7</td>\n",
       "    </tr>\n",
       "    <tr>\n",
       "      <th>15</th>\n",
       "      <td>A View to a Kill</td>\n",
       "      <td>1985</td>\n",
       "      <td>Roger Moore</td>\n",
       "      <td>good</td>\n",
       "      <td>John Glen</td>\n",
       "      <td>275.2</td>\n",
       "      <td>54.5</td>\n",
       "      <td>9</td>\n",
       "    </tr>\n",
       "    <tr>\n",
       "      <th>16</th>\n",
       "      <td>The Living Daylights</td>\n",
       "      <td>1987</td>\n",
       "      <td>Timothy Dalton</td>\n",
       "      <td>good</td>\n",
       "      <td>John Glen</td>\n",
       "      <td>313.5</td>\n",
       "      <td>68.8</td>\n",
       "      <td>5</td>\n",
       "    </tr>\n",
       "    <tr>\n",
       "      <th>14</th>\n",
       "      <td>Octopussy</td>\n",
       "      <td>1983</td>\n",
       "      <td>Roger Moore</td>\n",
       "      <td>good</td>\n",
       "      <td>John Glen</td>\n",
       "      <td>373.8</td>\n",
       "      <td>53.9</td>\n",
       "      <td>7</td>\n",
       "    </tr>\n",
       "    <tr>\n",
       "      <th>12</th>\n",
       "      <td>For Your Eyes Only</td>\n",
       "      <td>1981</td>\n",
       "      <td>Roger Moore</td>\n",
       "      <td>good</td>\n",
       "      <td>John Glen</td>\n",
       "      <td>449.4</td>\n",
       "      <td>60.2</td>\n",
       "      <td>6</td>\n",
       "    </tr>\n",
       "    <tr>\n",
       "      <th>4</th>\n",
       "      <td>Casino Royale</td>\n",
       "      <td>1967</td>\n",
       "      <td>David Niven</td>\n",
       "      <td>good</td>\n",
       "      <td>Ken Hughes</td>\n",
       "      <td>315.0</td>\n",
       "      <td>85.0</td>\n",
       "      <td>6</td>\n",
       "    </tr>\n",
       "    <tr>\n",
       "      <th>21</th>\n",
       "      <td>Die Another Day</td>\n",
       "      <td>2002</td>\n",
       "      <td>Pierce Brosnan</td>\n",
       "      <td>good</td>\n",
       "      <td>Lee Tamahori</td>\n",
       "      <td>465.4</td>\n",
       "      <td>154.2</td>\n",
       "      <td>17</td>\n",
       "    </tr>\n",
       "    <tr>\n",
       "      <th>5</th>\n",
       "      <td>You Only Live Twice</td>\n",
       "      <td>1967</td>\n",
       "      <td>Sean Connery</td>\n",
       "      <td>good</td>\n",
       "      <td>Lewis Gilbert</td>\n",
       "      <td>514.2</td>\n",
       "      <td>59.9</td>\n",
       "      <td>4</td>\n",
       "    </tr>\n",
       "    <tr>\n",
       "      <th>10</th>\n",
       "      <td>The Spy Who Loved Me</td>\n",
       "      <td>1977</td>\n",
       "      <td>Roger Moore</td>\n",
       "      <td>good</td>\n",
       "      <td>Lewis Gilbert</td>\n",
       "      <td>533.0</td>\n",
       "      <td>45.1</td>\n",
       "      <td>6</td>\n",
       "    </tr>\n",
       "    <tr>\n",
       "      <th>11</th>\n",
       "      <td>Moonraker</td>\n",
       "      <td>1979</td>\n",
       "      <td>Roger Moore</td>\n",
       "      <td>good</td>\n",
       "      <td>Lewis Gilbert</td>\n",
       "      <td>535.0</td>\n",
       "      <td>91.5</td>\n",
       "      <td>6</td>\n",
       "    </tr>\n",
       "    <tr>\n",
       "      <th>23</th>\n",
       "      <td>Quantum of Solace</td>\n",
       "      <td>2008</td>\n",
       "      <td>Daniel Craig</td>\n",
       "      <td>good</td>\n",
       "      <td>Marc Forster</td>\n",
       "      <td>514.2</td>\n",
       "      <td>181.4</td>\n",
       "      <td>8</td>\n",
       "    </tr>\n",
       "    <tr>\n",
       "      <th>18</th>\n",
       "      <td>GoldenEye</td>\n",
       "      <td>1995</td>\n",
       "      <td>Pierce Brosnan</td>\n",
       "      <td>good</td>\n",
       "      <td>Martin Campbell</td>\n",
       "      <td>518.5</td>\n",
       "      <td>76.9</td>\n",
       "      <td>5</td>\n",
       "    </tr>\n",
       "    <tr>\n",
       "      <th>22</th>\n",
       "      <td>Casino Royale</td>\n",
       "      <td>2006</td>\n",
       "      <td>Daniel Craig</td>\n",
       "      <td>good</td>\n",
       "      <td>Martin Campbell</td>\n",
       "      <td>581.5</td>\n",
       "      <td>145.3</td>\n",
       "      <td>3</td>\n",
       "    </tr>\n",
       "    <tr>\n",
       "      <th>20</th>\n",
       "      <td>The World Is Not Enough</td>\n",
       "      <td>1999</td>\n",
       "      <td>Pierce Brosnan</td>\n",
       "      <td>good</td>\n",
       "      <td>Michael Apted</td>\n",
       "      <td>439.5</td>\n",
       "      <td>158.3</td>\n",
       "      <td>13</td>\n",
       "    </tr>\n",
       "    <tr>\n",
       "      <th>6</th>\n",
       "      <td>On Her Majesty's Secret Service</td>\n",
       "      <td>1969</td>\n",
       "      <td>George Lazenby</td>\n",
       "      <td>good</td>\n",
       "      <td>Peter R. Hunt</td>\n",
       "      <td>291.5</td>\n",
       "      <td>37.3</td>\n",
       "      <td>0</td>\n",
       "    </tr>\n",
       "    <tr>\n",
       "      <th>19</th>\n",
       "      <td>Tomorrow Never Dies</td>\n",
       "      <td>1997</td>\n",
       "      <td>Pierce Brosnan</td>\n",
       "      <td>good</td>\n",
       "      <td>Roger Spottiswoode</td>\n",
       "      <td>463.2</td>\n",
       "      <td>133.9</td>\n",
       "      <td>10</td>\n",
       "    </tr>\n",
       "    <tr>\n",
       "      <th>25</th>\n",
       "      <td>Spectre</td>\n",
       "      <td>2015</td>\n",
       "      <td>Daniel Craig</td>\n",
       "      <td>good</td>\n",
       "      <td>Sam Mendes</td>\n",
       "      <td>726.7</td>\n",
       "      <td>206.3</td>\n",
       "      <td>6</td>\n",
       "    </tr>\n",
       "    <tr>\n",
       "      <th>24</th>\n",
       "      <td>Skyfall</td>\n",
       "      <td>2012</td>\n",
       "      <td>Daniel Craig</td>\n",
       "      <td>good</td>\n",
       "      <td>Sam Mendes</td>\n",
       "      <td>943.5</td>\n",
       "      <td>170.2</td>\n",
       "      <td>14</td>\n",
       "    </tr>\n",
       "    <tr>\n",
       "      <th>0</th>\n",
       "      <td>Dr. No</td>\n",
       "      <td>1962</td>\n",
       "      <td>Sean Connery</td>\n",
       "      <td>good</td>\n",
       "      <td>Terence Young</td>\n",
       "      <td>448.8</td>\n",
       "      <td>7.0</td>\n",
       "      <td>0</td>\n",
       "    </tr>\n",
       "    <tr>\n",
       "      <th>1</th>\n",
       "      <td>From Russia with Love</td>\n",
       "      <td>1963</td>\n",
       "      <td>Sean Connery</td>\n",
       "      <td>good</td>\n",
       "      <td>Terence Young</td>\n",
       "      <td>543.8</td>\n",
       "      <td>12.6</td>\n",
       "      <td>1</td>\n",
       "    </tr>\n",
       "    <tr>\n",
       "      <th>3</th>\n",
       "      <td>Thunderball</td>\n",
       "      <td>1965</td>\n",
       "      <td>Sean Connery</td>\n",
       "      <td>good</td>\n",
       "      <td>Terence Young</td>\n",
       "      <td>848.1</td>\n",
       "      <td>41.9</td>\n",
       "      <td>4</td>\n",
       "    </tr>\n",
       "  </tbody>\n",
       "</table>\n",
       "</div>"
      ],
      "text/plain": [
       "                               Film  Year           Actor hello  \\\n",
       "9       The Man with the Golden Gun  1974     Roger Moore  good   \n",
       "7              Diamonds Are Forever  1971    Sean Connery  good   \n",
       "8                  Live and Let Die  1973     Roger Moore  good   \n",
       "2                        Goldfinger  1964    Sean Connery  good   \n",
       "13            Never Say Never Again  1983    Sean Connery  good   \n",
       "17                  Licence to Kill  1989  Timothy Dalton  good   \n",
       "15                 A View to a Kill  1985     Roger Moore  good   \n",
       "16             The Living Daylights  1987  Timothy Dalton  good   \n",
       "14                        Octopussy  1983     Roger Moore  good   \n",
       "12               For Your Eyes Only  1981     Roger Moore  good   \n",
       "4                     Casino Royale  1967     David Niven  good   \n",
       "21                  Die Another Day  2002  Pierce Brosnan  good   \n",
       "5               You Only Live Twice  1967    Sean Connery  good   \n",
       "10             The Spy Who Loved Me  1977     Roger Moore  good   \n",
       "11                        Moonraker  1979     Roger Moore  good   \n",
       "23                Quantum of Solace  2008    Daniel Craig  good   \n",
       "18                        GoldenEye  1995  Pierce Brosnan  good   \n",
       "22                    Casino Royale  2006    Daniel Craig  good   \n",
       "20          The World Is Not Enough  1999  Pierce Brosnan  good   \n",
       "6   On Her Majesty's Secret Service  1969  George Lazenby  good   \n",
       "19              Tomorrow Never Dies  1997  Pierce Brosnan  good   \n",
       "25                          Spectre  2015    Daniel Craig  good   \n",
       "24                          Skyfall  2012    Daniel Craig  good   \n",
       "0                            Dr. No  1962    Sean Connery  good   \n",
       "1             From Russia with Love  1963    Sean Connery  good   \n",
       "3                       Thunderball  1965    Sean Connery  good   \n",
       "\n",
       "              Director  Box Office  Budget  Bond Actor Salary  \n",
       "9         Guy Hamilton       334.0    27.7                  6  \n",
       "7         Guy Hamilton       442.5    34.7                  5  \n",
       "8         Guy Hamilton       460.3    30.8                  6  \n",
       "2         Guy Hamilton       820.4    18.6                  3  \n",
       "13      Irvin Kershner       380.0    86.0                  6  \n",
       "17           John Glen       250.9    56.7                  7  \n",
       "15           John Glen       275.2    54.5                  9  \n",
       "16           John Glen       313.5    68.8                  5  \n",
       "14           John Glen       373.8    53.9                  7  \n",
       "12           John Glen       449.4    60.2                  6  \n",
       "4           Ken Hughes       315.0    85.0                  6  \n",
       "21        Lee Tamahori       465.4   154.2                 17  \n",
       "5        Lewis Gilbert       514.2    59.9                  4  \n",
       "10       Lewis Gilbert       533.0    45.1                  6  \n",
       "11       Lewis Gilbert       535.0    91.5                  6  \n",
       "23        Marc Forster       514.2   181.4                  8  \n",
       "18     Martin Campbell       518.5    76.9                  5  \n",
       "22     Martin Campbell       581.5   145.3                  3  \n",
       "20       Michael Apted       439.5   158.3                 13  \n",
       "6        Peter R. Hunt       291.5    37.3                  0  \n",
       "19  Roger Spottiswoode       463.2   133.9                 10  \n",
       "25          Sam Mendes       726.7   206.3                  6  \n",
       "24          Sam Mendes       943.5   170.2                 14  \n",
       "0        Terence Young       448.8     7.0                  0  \n",
       "1        Terence Young       543.8    12.6                  1  \n",
       "3        Terence Young       848.1    41.9                  4  "
      ]
     },
     "execution_count": 96,
     "metadata": {},
     "output_type": "execute_result"
    }
   ],
   "source": [
    "df.sort_values([\"hello\" , \"Director\"] , ascending=[True , False])# first proirity is hello then director"
   ]
  },
  {
   "cell_type": "markdown",
   "id": "35a8516f",
   "metadata": {},
   "source": [
    "# ranking"
   ]
  },
  {
   "cell_type": "code",
   "execution_count": 98,
   "id": "f67c53ee",
   "metadata": {},
   "outputs": [
    {
     "data": {
      "text/plain": [
       "17    15.0\n",
       "15    16.0\n",
       "6     20.0\n",
       "16    12.0\n",
       "4     10.0\n",
       "9     23.0\n",
       "14    17.0\n",
       "13     9.0\n",
       "20     4.0\n",
       "7     21.0\n",
       "0     26.0\n",
       "12    13.0\n",
       "8     22.0\n",
       "19     7.0\n",
       "21     5.0\n",
       "5     14.0\n",
       "23     2.0\n",
       "18    11.0\n",
       "10    18.0\n",
       "11     8.0\n",
       "1     25.0\n",
       "22     6.0\n",
       "25     1.0\n",
       "2     24.0\n",
       "3     19.0\n",
       "24     3.0\n",
       "Name: Budget, dtype: float64"
      ]
     },
     "execution_count": 98,
     "metadata": {},
     "output_type": "execute_result"
    }
   ],
   "source": [
    "df[\"Budget\"].rank(ascending=False)"
   ]
  },
  {
   "cell_type": "code",
   "execution_count": null,
   "id": "2a612462",
   "metadata": {},
   "outputs": [],
   "source": []
  }
 ],
 "metadata": {
  "kernelspec": {
   "display_name": "Python 3 (ipykernel)",
   "language": "python",
   "name": "python3"
  },
  "language_info": {
   "codemirror_mode": {
    "name": "ipython",
    "version": 3
   },
   "file_extension": ".py",
   "mimetype": "text/x-python",
   "name": "python",
   "nbconvert_exporter": "python",
   "pygments_lexer": "ipython3",
   "version": "3.9.12"
  }
 },
 "nbformat": 4,
 "nbformat_minor": 5
}
